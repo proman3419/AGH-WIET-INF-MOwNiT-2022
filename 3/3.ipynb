{
 "cells": [
  {
   "cell_type": "markdown",
   "metadata": {
    "pycharm": {
     "name": "#%% md\n"
    }
   },
   "source": [
    "# Metody Obliczeniowe w Nauce i Technice\n",
    "# Laboratorium 3: Równania nieliniowe\n",
    "## Przemysław Roman"
   ]
  },
  {
   "cell_type": "code",
   "execution_count": 183,
   "metadata": {
    "pycharm": {
     "name": "#%%\n"
    }
   },
   "outputs": [],
   "source": [
    "import numpy as np\n",
    "import matplotlib.pyplot as plt\n",
    "import time\n",
    "import math\n",
    "\n",
    "def time_exec(func, *args):\n",
    "    start_time = time.time()\n",
    "    result = func(*args)\n",
    "    return result, time.time() - start_time"
   ]
  },
  {
   "cell_type": "markdown",
   "metadata": {
    "pycharm": {
     "name": "#%% md\n"
    }
   },
   "source": [
    "## Funkcje do testów"
   ]
  },
  {
   "cell_type": "code",
   "execution_count": 184,
   "metadata": {
    "pycharm": {
     "name": "#%%\n"
    }
   },
   "outputs": [],
   "source": [
    "f1 = lambda x: np.cos(x) * np.cosh(x) - 1\n",
    "f2 = lambda x: 1/x - np.tan(x)\n",
    "f3 = lambda x: math.pow(2, -x) + math.pow(np.e, x) + 2*np.cos(x) - 6"
   ]
  },
  {
   "cell_type": "markdown",
   "metadata": {
    "pycharm": {
     "name": "#%% md\n"
    }
   },
   "source": [
    "## Zadanie 1 Metoda bisekcji"
   ]
  },
  {
   "cell_type": "code",
   "execution_count": 208,
   "metadata": {
    "pycharm": {
     "name": "#%%\n"
    }
   },
   "outputs": [],
   "source": [
    "def bisection(f, a, b, E=1e-7, max_iter=10**4):\n",
    "    i = 0\n",
    "    while True:\n",
    "        x = a + (b-a)/2\n",
    "        fx = f(x)\n",
    "        if abs(fx) <= E:\n",
    "            return x, i\n",
    "        elif np.sign(f(a)) != np.sign(fx):\n",
    "            b = x\n",
    "        else:\n",
    "            a = x\n",
    "\n",
    "        i += 1\n",
    "        if i == max_iter:\n",
    "            return None"
   ]
  },
  {
   "cell_type": "code",
   "execution_count": 209,
   "metadata": {
    "pycharm": {
     "name": "#%%\n"
    }
   },
   "outputs": [
    {
     "name": "stdout",
     "output_type": "stream",
     "text": [
      "(4.7300407459601495, 28)\n",
      "None\n",
      "None\n",
      "\n",
      "(0.8603336028344175, 24)\n",
      "(0.8603335890193797, 50)\n",
      "(0.8603335890193797, 50)\n",
      "\n",
      "(1.8293836116790771, 22)\n",
      "(1.829383601933849, 51)\n",
      "(1.829383601933849, 51)\n"
     ]
    }
   ],
   "source": [
    "print(bisection(f1, (3/2)*np.pi, 2*np.pi, E=1e-7))\n",
    "print(bisection(f1, (3/2)*np.pi, 2*np.pi, E=1e-15))\n",
    "print(bisection(f1, (3/2)*np.pi, 2*np.pi, E=1e-33))\n",
    "print()\n",
    "\n",
    "print(bisection(f2, 1e-9, (1/2)*np.pi, E=1e-7))\n",
    "print(bisection(f2, 1e-9, (1/2)*np.pi, E=1e-15))\n",
    "print(bisection(f2, 1e-9, (1/2)*np.pi, E=1e-33))\n",
    "print()\n",
    "\n",
    "print(bisection(f3, 1, 3, E=1e-7))\n",
    "print(bisection(f3, 1, 3, E=1e-15))\n",
    "print(bisection(f3, 1, 3, E=1e-33))"
   ]
  }
 ],
 "metadata": {
  "kernelspec": {
   "display_name": "Python 3",
   "language": "python",
   "name": "python3"
  },
  "language_info": {
   "codemirror_mode": {
    "name": "ipython",
    "version": 3
   },
   "file_extension": ".py",
   "mimetype": "text/x-python",
   "name": "python",
   "nbconvert_exporter": "python",
   "pygments_lexer": "ipython3",
   "version": "3.8.8"
  }
 },
 "nbformat": 4,
 "nbformat_minor": 1
}
