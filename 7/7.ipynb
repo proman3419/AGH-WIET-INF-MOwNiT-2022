{
 "cells": [
  {
   "cell_type": "markdown",
   "metadata": {
    "pycharm": {
     "name": "#%% md\n"
    }
   },
   "source": [
    "# Metody Obliczeniowe w Nauce i Technice\n",
    "# Laboratorium 7: Dekompozycja spektralna\n",
    "## Przemysław Roman"
   ]
  },
  {
   "cell_type": "code",
   "execution_count": 2,
   "metadata": {
    "pycharm": {
     "name": "#%%\n"
    }
   },
   "outputs": [],
   "source": [
    "import numpy as np\n",
    "import matplotlib.pyplot as plt\n",
    "import time\n",
    "\n",
    "def time_exec(func, *args):\n",
    "    start_time = time.time()\n",
    "    result = func(*args)\n",
    "    return result, time.time() - start_time"
   ]
  },
  {
   "cell_type": "markdown",
   "metadata": {
    "pycharm": {
     "name": "#%% md\n"
    }
   },
   "source": [
    "## Zadanie 1"
   ]
  },
  {
   "cell_type": "code",
   "execution_count": 3,
   "metadata": {
    "pycharm": {
     "name": "#%%\n"
    }
   },
   "outputs": [],
   "source": [
    "def power_iterations(A, max_iter=10**3, eps=1e-7):\n",
    "    x_i = np.random.rand(A.shape[1])\n",
    "    i = 0\n",
    "    while True:\n",
    "        x_j = np.dot(A, x_i)\n",
    "        norm = np.linalg.norm(x_j, np.inf)\n",
    "        x_j_norm = x_j / norm\n",
    "        i += 1\n",
    "        if i >= max_iter or np.linalg.norm(x_j_norm - x_i, np.inf) < eps:\n",
    "            x_i = x_j_norm\n",
    "            return np.linalg.norm(x_j, np.inf), x_i/np.linalg.norm(x_i)\n",
    "        x_i = x_j_norm"
   ]
  },
  {
   "cell_type": "code",
   "execution_count": 4,
   "metadata": {
    "pycharm": {
     "name": "#%%\n"
    }
   },
   "outputs": [
    {
     "name": "stdout",
     "output_type": "stream",
     "text": [
      "numpy\n",
      "[ 7.0674301 +0.j         -1.53371505+1.15176646j -1.53371505-1.15176646j]\n",
      "[[ 0.60911483+0.j          0.63866297+0.j          0.63866297-0.j        ]\n",
      " [ 0.48957959+0.j         -0.34138514+0.37732585j -0.34138514-0.37732585j]\n",
      " [ 0.62393184+0.j          0.04436786-0.57551933j  0.04436786+0.57551933j]]\n",
      "mine\n",
      "7.0674299821556135\n",
      "[0.60911483 0.4895796  0.62393185]\n"
     ]
    }
   ],
   "source": [
    "np.random.seed(123432)\n",
    "A = np.array([[1, 5, 2], [1, 2, 3], [3, 4, 1]])\n",
    "\n",
    "eig_val, eig_vec = np.linalg.eig(A)\n",
    "print('numpy')\n",
    "print(eig_val)\n",
    "print(eig_vec)\n",
    "\n",
    "eig_val, eig_vec = power_iterations(A)\n",
    "print('mine')\n",
    "print(eig_val)\n",
    "print(eig_vec)"
   ]
  },
  {
   "cell_type": "code",
   "execution_count": 15,
   "metadata": {
    "pycharm": {
     "name": "#%%\n"
    }
   },
   "outputs": [
    {
     "data": {
      "image/png": "[encoded data removed]",
      "text/plain": [
       "<Figure size 432x288 with 1 Axes>"
      ]
     },
     "metadata": {
      "needs_background": "light"
     },
     "output_type": "display_data"
    }
   ],
   "source": [
    "np.random.seed(123432)\n",
    "I = []\n",
    "times = []\n",
    "for i in range(100, 501, 50):\n",
    "    A = np.random.uniform(size=(i, i))\n",
    "    res, t = time_exec(power_iterations, A)\n",
    "    I.append(i)\n",
    "    times.append(t)\n",
    "\n",
    "plt.plot(I, times)\n",
    "plt.show()"
   ]
  },
  {
   "cell_type": "markdown",
   "metadata": {
    "pycharm": {
     "name": "#%% md\n"
    }
   },
   "source": [
    "## Zadanie 2"
   ]
  },
  {
   "cell_type": "code",
   "execution_count": 16,
   "metadata": {
    "pycharm": {
     "name": "#%%\n"
    }
   },
   "outputs": [
    {
     "data": {
      "text/plain": [
       "(7.067430102590308, array([0.97625219, 0.78466838, 1.        ]))"
      ]
     },
     "execution_count": 16,
     "metadata": {},
     "output_type": "execute_result"
    }
   ],
   "source": [
    "# source: https://johnfoster.pge.utexas.edu/numerical-methods-book/LinearAlgebra_EigenProblem1.html\n",
    "\n",
    "def __find_p(x):\n",
    "    return np.argwhere(np.isclose(np.abs(x), np.linalg.norm(x, np.inf))).min()\n",
    "\n",
    "def inverse_power_method(A, tolerance=1e-10, max_iterations=10000):\n",
    "\n",
    "    n = A.shape[0]\n",
    "    x = np.ones(n)\n",
    "    I = np.eye(n)\n",
    "\n",
    "    q = np.dot(x, np.dot(A, x)) / np.dot(x, x)\n",
    "\n",
    "    p = __find_p(x)\n",
    "\n",
    "    error = 1\n",
    "\n",
    "    x = x / x[p]\n",
    "\n",
    "    for _ in range(max_iterations):\n",
    "\n",
    "        if error < tolerance:\n",
    "            break\n",
    "\n",
    "        y = np.linalg.solve(A - q * I, x)\n",
    "        μ = y[p]\n",
    "        p = __find_p(y)\n",
    "        error = np.linalg.norm(x - y / y[p],  np.inf)\n",
    "        x = y / y[p]\n",
    "        μ = 1. / μ + q\n",
    "\n",
    "\n",
    "    return (μ, x)\n",
    "\n",
    "A = np.array([[1, 5, 2], [1, 2, 3], [3, 4, 1]])\n",
    "inverse_power_method(A)"
   ]
  }
 ],
 "metadata": {
  "kernelspec": {
   "display_name": "Python 3",
   "language": "python",
   "name": "python3"
  },
  "language_info": {
   "codemirror_mode": {
    "name": "ipython",
    "version": 3
   },
   "file_extension": ".py",
   "mimetype": "text/x-python",
   "name": "python",
   "nbconvert_exporter": "python",
   "pygments_lexer": "ipython3",
   "version": "3.8.8"
  }
 },
 "nbformat": 4,
 "nbformat_minor": 1
}
