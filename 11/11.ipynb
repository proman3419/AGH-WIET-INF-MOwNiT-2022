{
 "cells": [
  {
   "cell_type": "markdown",
   "source": [
    "# Metody Obliczeniowe w Nauce i Technice\n",
    "# Laboratorium 11: Faktoryzacja QR\n",
    "## Przemysław Roman"
   ],
   "metadata": {
    "collapsed": false,
    "pycharm": {
     "name": "#%% md\n"
    }
   }
  },
  {
   "cell_type": "code",
   "source": [
    "import numpy as np\n",
    "import matplotlib.pyplot as plt\n",
    "import time\n",
    "from copy import deepcopy\n",
    "\n",
    "def time_exec(func, *args):\n",
    "    start_time = time.time()\n",
    "    result = func(*args)\n",
    "    return result, time.time() - start_time\n",
    "\n",
    "np.random.seed(42743)"
   ],
   "metadata": {
    "collapsed": false,
    "pycharm": {
     "name": "#%%\n"
    }
   },
   "execution_count": 1,
   "outputs": []
  },
  {
   "cell_type": "markdown",
   "source": [
    "## Zadanie 1"
   ],
   "metadata": {
    "collapsed": false,
    "pycharm": {
     "name": "#%% md\n"
    }
   }
  },
  {
   "cell_type": "code",
   "execution_count": 8,
   "outputs": [],
   "source": [
    "def factorize_qr(A):\n",
    "    n = A.shape[0]\n",
    "    Q = deepcopy(A)\n",
    "    R = np.zeros((n, n))\n",
    "\n",
    "    for i in range(n):\n",
    "        for j in range(i):\n",
    "            Q[:,i] -= np.dot(Q[:,j], A[:,i]) * Q[:,j]\n",
    "\n",
    "        Q_tmp = Q[:,i]\n",
    "        Q[:,i] = Q_tmp / np.linalg.norm(Q_tmp)\n",
    "\n",
    "    for i in range(n):\n",
    "        for j in range(i, n):\n",
    "            R[i,j] = np.dot(Q[:,i], A[:,j])\n",
    "\n",
    "    return Q, R"
   ],
   "metadata": {
    "collapsed": false,
    "pycharm": {
     "name": "#%%\n"
    }
   }
  },
  {
   "cell_type": "code",
   "execution_count": 9,
   "outputs": [],
   "source": [
    "def test_factorize_qr(A):\n",
    "    def print_res(Q, R, A_ret):\n",
    "        print(f'Q:\\n{Q}')\n",
    "        print(f'R:\\n{R}')\n",
    "        print(f'A odtworzone:\\n{A_ret}')\n",
    "\n",
    "    print(f'A wejściowe:\\n{A}\\n')\n",
    "\n",
    "    Q, R = factorize_qr(A)\n",
    "    A_ret = Q @ R\n",
    "    print('Wynik implementacji:')\n",
    "    print_res(Q, R, A_ret)\n",
    "\n",
    "    print()\n",
    "\n",
    "    Q_lib, R_lib = np.linalg.qr(A)\n",
    "    A_ret_lib = Q_lib @ R_lib\n",
    "    print('Wynik funkcji np.linalg.qr:')\n",
    "    print_res(Q_lib, R_lib, A_ret_lib)\n",
    "\n",
    "    np.testing.assert_allclose(A_ret, A_ret_lib)"
   ],
   "metadata": {
    "collapsed": false,
    "pycharm": {
     "name": "#%%\n"
    }
   }
  },
  {
   "cell_type": "code",
   "execution_count": 12,
   "outputs": [
    {
     "name": "stdout",
     "output_type": "stream",
     "text": [
      "A wejściowe:\n",
      "[[0.88736653 0.39277359 0.007292  ]\n",
      " [0.37994075 0.90305521 0.8233933 ]\n",
      " [0.84273576 0.01848606 0.2215478 ]]\n",
      "\n",
      "Wynik implementacji:\n",
      "Q:\n",
      "[[ 0.69249938  0.0129613  -0.72130203]\n",
      " [ 0.29650514  0.90637327  0.30095216]\n",
      " [ 0.65766961 -0.42227894  0.62381983]]\n",
      "R:\n",
      "[[1.28139685 0.5519137  0.39489531]\n",
      " [0.         0.81578969 0.65284122]\n",
      " [0.         0.         0.38074817]]\n",
      "A odtworzone:\n",
      "[[0.88736653 0.39277359 0.007292  ]\n",
      " [0.37994075 0.90305521 0.8233933 ]\n",
      " [0.84273576 0.01848606 0.2215478 ]]\n",
      "\n",
      "Wynik funkcji np.linalg.qr:\n",
      "Q:\n",
      "[[-0.69249938 -0.0129613  -0.72130203]\n",
      " [-0.29650514 -0.90637327  0.30095216]\n",
      " [-0.65766961  0.42227894  0.62381983]]\n",
      "R:\n",
      "[[-1.28139685 -0.5519137  -0.39489531]\n",
      " [ 0.         -0.81578969 -0.65284122]\n",
      " [ 0.          0.          0.38074817]]\n",
      "A odtworzone:\n",
      "[[0.88736653 0.39277359 0.007292  ]\n",
      " [0.37994075 0.90305521 0.8233933 ]\n",
      " [0.84273576 0.01848606 0.2215478 ]]\n"
     ]
    }
   ],
   "source": [
    "test_factorize_qr(np.random.rand(3, 3))"
   ],
   "metadata": {
    "collapsed": false,
    "pycharm": {
     "name": "#%%\n"
    }
   }
  },
  {
   "cell_type": "code",
   "execution_count": 10,
   "outputs": [
    {
     "name": "stdout",
     "output_type": "stream",
     "text": [
      "A wejściowe:\n",
      "[[0.2390588  0.54052886 0.29648804 0.3828963  0.8537433 ]\n",
      " [0.23682602 0.22079533 0.70796483 0.15754046 0.12639917]\n",
      " [0.82570677 0.58246559 0.21085938 0.15440359 0.8240793 ]\n",
      " [0.08712008 0.69279587 0.68069796 0.3439085  0.82413457]\n",
      " [0.47192634 0.26482033 0.6080995  0.29359326 0.62017811]]\n",
      "\n",
      "Wynik implementacji:\n",
      "Q:\n",
      "[[ 0.23608726  0.47127305 -0.23093998  0.66025194 -0.48259571]\n",
      " [ 0.23388222  0.03433247  0.7017536  -0.30164467 -0.60056038]\n",
      " [ 0.81544307 -0.1378122  -0.43352821 -0.35751033 -0.01732164]\n",
      " [ 0.08603716  0.85324515  0.13015475 -0.3093792   0.3897622 ]\n",
      " [ 0.4660602  -0.17234706  0.49932118  0.49954853  0.5041964 ]]\n",
      "R:\n",
      "[[ 1.01258665  0.83724801  0.74949755  0.41957124  1.26305672]\n",
      " [ 0.          0.72752998  0.61097209  0.40741709  0.88942057]\n",
      " [ 0.          0.          0.72916547  0.14654887 -0.04879092]\n",
      " [ 0.          0.          0.          0.19035185  0.28578014]\n",
      " [ 0.          0.          0.          0.          0.13171048]]\n",
      "A odtworzone:\n",
      "[[0.2390588  0.54052886 0.29648804 0.3828963  0.8537433 ]\n",
      " [0.23682602 0.22079533 0.70796483 0.15754046 0.12639917]\n",
      " [0.82570677 0.58246559 0.21085938 0.15440359 0.8240793 ]\n",
      " [0.08712008 0.69279587 0.68069796 0.3439085  0.82413457]\n",
      " [0.47192634 0.26482033 0.6080995  0.29359326 0.62017811]]\n",
      "\n",
      "Wynik funkcji np.linalg.qr:\n",
      "Q:\n",
      "[[-0.23608726  0.47127305 -0.23093998  0.66025194 -0.48259571]\n",
      " [-0.23388222  0.03433247  0.7017536  -0.30164467 -0.60056038]\n",
      " [-0.81544307 -0.1378122  -0.43352821 -0.35751033 -0.01732164]\n",
      " [-0.08603716  0.85324515  0.13015475 -0.3093792   0.3897622 ]\n",
      " [-0.4660602  -0.17234706  0.49932118  0.49954853  0.5041964 ]]\n",
      "R:\n",
      "[[-1.01258665 -0.83724801 -0.74949755 -0.41957124 -1.26305672]\n",
      " [ 0.          0.72752998  0.61097209  0.40741709  0.88942057]\n",
      " [ 0.          0.          0.72916547  0.14654887 -0.04879092]\n",
      " [ 0.          0.          0.          0.19035185  0.28578014]\n",
      " [ 0.          0.          0.          0.          0.13171048]]\n",
      "A odtworzone:\n",
      "[[0.2390588  0.54052886 0.29648804 0.3828963  0.8537433 ]\n",
      " [0.23682602 0.22079533 0.70796483 0.15754046 0.12639917]\n",
      " [0.82570677 0.58246559 0.21085938 0.15440359 0.8240793 ]\n",
      " [0.08712008 0.69279587 0.68069796 0.3439085  0.82413457]\n",
      " [0.47192634 0.26482033 0.6080995  0.29359326 0.62017811]]\n"
     ]
    }
   ],
   "source": [
    "test_factorize_qr(np.random.rand(5, 5))"
   ],
   "metadata": {
    "collapsed": false,
    "pycharm": {
     "name": "#%%\n"
    }
   }
  },
  {
   "cell_type": "code",
   "execution_count": 11,
   "outputs": [
    {
     "name": "stdout",
     "output_type": "stream",
     "text": [
      "A wejściowe:\n",
      "[[0.57621931 0.02007675 0.4613883  0.00687552 0.76833496 0.33832477\n",
      "  0.59245162 0.5358383  0.60633659 0.88081372]\n",
      " [0.90842086 0.49310035 0.82096689 0.29607283 0.43051837 0.90538215\n",
      "  0.50412776 0.74962754 0.24791376 0.73792224]\n",
      " [0.8782509  0.77010169 0.80343445 0.10788891 0.37469227 0.81432546\n",
      "  0.85549883 0.7532114  0.83247135 0.85370882]\n",
      " [0.06488705 0.4774141  0.37699256 0.66656514 0.32267732 0.32495486\n",
      "  0.68380906 0.11310205 0.77926885 0.36147096]\n",
      " [0.95393095 0.88715356 0.8497979  0.03412865 0.87141106 0.18747384\n",
      "  0.0282307  0.96067823 0.84926853 0.00606099]\n",
      " [0.97670806 0.37990482 0.51645901 0.58312886 0.18042729 0.54183378\n",
      "  0.0900016  0.22356619 0.67744124 0.82870744]\n",
      " [0.01862531 0.69483344 0.97775893 0.29179044 0.89045028 0.29771492\n",
      "  0.53394902 0.64041528 0.87699547 0.98353104]\n",
      " [0.19985931 0.70637026 0.61535143 0.2101171  0.69978031 0.44631952\n",
      "  0.20541087 0.38485513 0.61716575 0.85779886]\n",
      " [0.90416591 0.0187555  0.68063087 0.57445072 0.9448431  0.58150235\n",
      "  0.85320253 0.21470856 0.57843261 0.91618295]\n",
      " [0.39897896 0.70945132 0.97222782 0.22341544 0.78771512 0.10816841\n",
      "  0.81707085 0.56156405 0.26454201 0.02938526]]\n",
      "\n",
      "Wynik implementacji:\n",
      "Q:\n",
      "[[ 0.26263169 -0.2377598   0.31973158 -0.2754473   0.34466208  0.20242437\n",
      "   0.19247491  0.36252043  0.21279043  0.56822564]\n",
      " [ 0.41404393 -0.0316308   0.09053118 -0.04523267 -0.45491923  0.33228796\n",
      "  -0.2819969   0.31758494 -0.56510115 -0.01538445]\n",
      " [ 0.40029294  0.18761916 -0.24637768 -0.21078656 -0.31278767  0.35887806\n",
      "   0.51158918 -0.185439    0.36898915 -0.20134047]\n",
      " [ 0.0295745   0.32662096 -0.0635869   0.7094052   0.16688822  0.08316706\n",
      "   0.39813341  0.42402427 -0.10960849  0.00747067]\n",
      " [ 0.43478671  0.24148806 -0.36032532 -0.30931673  0.45367949 -0.36930853\n",
      "  -0.15476392  0.27271553 -0.07203797 -0.28531368]\n",
      " [ 0.44516816 -0.14576611 -0.24696837  0.42980971 -0.22621953 -0.28168101\n",
      "  -0.3376403  -0.1260601   0.36423323  0.37652404]\n",
      " [ 0.00848912  0.50861368  0.56096121 -0.00362772 -0.13035018 -0.00254129\n",
      "  -0.34411079  0.19483238  0.45822239 -0.2078753 ]\n",
      " [ 0.09109273  0.43771688 -0.06867867  0.06267647  0.39385762  0.46485211\n",
      "  -0.27708918 -0.49166738 -0.16300768  0.27415856]\n",
      " [ 0.41210459 -0.38255826  0.45497309  0.27553136  0.29211327  0.00771851\n",
      "   0.07594609 -0.32317177 -0.06373462 -0.44859927]\n",
      " [ 0.18184833  0.35268764  0.32803674 -0.11884372 -0.18472473 -0.530106\n",
      "   0.3525424  -0.2813062  -0.3297836   0.3057753 ]]\n",
      "R:\n",
      "[[ 2.19402048  1.29365314  1.91488546  0.76070116  1.60269365  1.42451401\n",
      "   1.30277708  1.50426761  1.63914071  1.73023057]\n",
      " [ 0.          1.34454004  1.11730281  0.24961307  0.8390917   0.27860843\n",
      "   0.54400209  0.83664993  0.95326146  0.46172001]\n",
      " [ 0.          0.          0.70098917  0.28762476  0.9529769   0.2038816\n",
      "   0.89003867  0.2597694   0.28786081  0.82754919]\n",
      " [ 0.          0.          0.          0.81875364 -0.06582466  0.27388963\n",
      "   0.29764686 -0.44687876  0.39103133  0.45393553]\n",
      " [ 0.          0.          0.          0.          0.65017611 -0.24640588\n",
      "  -0.07656317  0.03929262  0.4467691   0.04831184]\n",
      " [ 0.          0.          0.          0.          0.          0.62060547\n",
      "   0.28313485  0.10075732  0.21310825  0.9120156 ]\n",
      " [ 0.          0.          0.          0.          0.          0.\n",
      "   0.7592183  -0.01478757  0.0871608  -0.23482879]\n",
      " [ 0.          0.          0.          0.          0.          0.\n",
      "   0.          0.28260881  0.22688619 -0.08866525]\n",
      " [ 0.          0.          0.          0.          0.          0.\n",
      "   0.          0.          0.57340013  0.589988  ]\n",
      " [ 0.          0.          0.          0.          0.          0.\n",
      "   0.          0.          0.          0.25896907]]\n",
      "A odtworzone:\n",
      "[[0.57621931 0.02007675 0.4613883  0.00687552 0.76833496 0.33832477\n",
      "  0.59245162 0.5358383  0.60633659 0.88081372]\n",
      " [0.90842086 0.49310035 0.82096689 0.29607283 0.43051837 0.90538215\n",
      "  0.50412776 0.74962754 0.24791376 0.73792224]\n",
      " [0.8782509  0.77010169 0.80343445 0.10788891 0.37469227 0.81432546\n",
      "  0.85549883 0.7532114  0.83247135 0.85370882]\n",
      " [0.06488705 0.4774141  0.37699256 0.66656514 0.32267732 0.32495486\n",
      "  0.68380906 0.11310205 0.77926885 0.36147096]\n",
      " [0.95393095 0.88715356 0.8497979  0.03412865 0.87141106 0.18747384\n",
      "  0.0282307  0.96067823 0.84926853 0.00606099]\n",
      " [0.97670806 0.37990482 0.51645901 0.58312886 0.18042729 0.54183378\n",
      "  0.0900016  0.22356619 0.67744124 0.82870744]\n",
      " [0.01862531 0.69483344 0.97775893 0.29179044 0.89045028 0.29771492\n",
      "  0.53394902 0.64041528 0.87699547 0.98353104]\n",
      " [0.19985931 0.70637026 0.61535143 0.2101171  0.69978031 0.44631952\n",
      "  0.20541087 0.38485513 0.61716575 0.85779886]\n",
      " [0.90416591 0.0187555  0.68063087 0.57445072 0.9448431  0.58150235\n",
      "  0.85320253 0.21470856 0.57843261 0.91618295]\n",
      " [0.39897896 0.70945132 0.97222782 0.22341544 0.78771512 0.10816841\n",
      "  0.81707085 0.56156405 0.26454201 0.02938526]]\n",
      "\n",
      "Wynik funkcji np.linalg.qr:\n",
      "Q:\n",
      "[[-0.26263169  0.2377598   0.31973158  0.2754473  -0.34466208  0.20242437\n",
      "  -0.19247491  0.36252043  0.21279043  0.56822564]\n",
      " [-0.41404393  0.0316308   0.09053118  0.04523267  0.45491923  0.33228796\n",
      "   0.2819969   0.31758494 -0.56510115 -0.01538445]\n",
      " [-0.40029294 -0.18761916 -0.24637768  0.21078656  0.31278767  0.35887806\n",
      "  -0.51158918 -0.185439    0.36898915 -0.20134047]\n",
      " [-0.0295745  -0.32662096 -0.0635869  -0.7094052  -0.16688822  0.08316706\n",
      "  -0.39813341  0.42402427 -0.10960849  0.00747067]\n",
      " [-0.43478671 -0.24148806 -0.36032532  0.30931673 -0.45367949 -0.36930853\n",
      "   0.15476392  0.27271553 -0.07203797 -0.28531368]\n",
      " [-0.44516816  0.14576611 -0.24696837 -0.42980971  0.22621953 -0.28168101\n",
      "   0.3376403  -0.1260601   0.36423323  0.37652404]\n",
      " [-0.00848912 -0.50861368  0.56096121  0.00362772  0.13035018 -0.00254129\n",
      "   0.34411079  0.19483238  0.45822239 -0.2078753 ]\n",
      " [-0.09109273 -0.43771688 -0.06867867 -0.06267647 -0.39385762  0.46485211\n",
      "   0.27708918 -0.49166738 -0.16300768  0.27415856]\n",
      " [-0.41210459  0.38255826  0.45497309 -0.27553136 -0.29211327  0.00771851\n",
      "  -0.07594609 -0.32317177 -0.06373462 -0.44859927]\n",
      " [-0.18184833 -0.35268764  0.32803674  0.11884372  0.18472473 -0.530106\n",
      "  -0.3525424  -0.2813062  -0.3297836   0.3057753 ]]\n",
      "R:\n",
      "[[-2.19402048 -1.29365314 -1.91488546 -0.76070116 -1.60269365 -1.42451401\n",
      "  -1.30277708 -1.50426761 -1.63914071 -1.73023057]\n",
      " [ 0.         -1.34454004 -1.11730281 -0.24961307 -0.8390917  -0.27860843\n",
      "  -0.54400209 -0.83664993 -0.95326146 -0.46172001]\n",
      " [ 0.          0.          0.70098917  0.28762476  0.9529769   0.2038816\n",
      "   0.89003867  0.2597694   0.28786081  0.82754919]\n",
      " [ 0.          0.          0.         -0.81875364  0.06582466 -0.27388963\n",
      "  -0.29764686  0.44687876 -0.39103133 -0.45393553]\n",
      " [ 0.          0.          0.          0.         -0.65017611  0.24640588\n",
      "   0.07656317 -0.03929262 -0.4467691  -0.04831184]\n",
      " [ 0.          0.          0.          0.          0.          0.62060547\n",
      "   0.28313485  0.10075732  0.21310825  0.9120156 ]\n",
      " [ 0.          0.          0.          0.          0.          0.\n",
      "  -0.7592183   0.01478757 -0.0871608   0.23482879]\n",
      " [ 0.          0.          0.          0.          0.          0.\n",
      "   0.          0.28260881  0.22688619 -0.08866525]\n",
      " [ 0.          0.          0.          0.          0.          0.\n",
      "   0.          0.          0.57340013  0.589988  ]\n",
      " [ 0.          0.          0.          0.          0.          0.\n",
      "   0.          0.          0.          0.25896907]]\n",
      "A odtworzone:\n",
      "[[0.57621931 0.02007675 0.4613883  0.00687552 0.76833496 0.33832477\n",
      "  0.59245162 0.5358383  0.60633659 0.88081372]\n",
      " [0.90842086 0.49310035 0.82096689 0.29607283 0.43051837 0.90538215\n",
      "  0.50412776 0.74962754 0.24791376 0.73792224]\n",
      " [0.8782509  0.77010169 0.80343445 0.10788891 0.37469227 0.81432546\n",
      "  0.85549883 0.7532114  0.83247135 0.85370882]\n",
      " [0.06488705 0.4774141  0.37699256 0.66656514 0.32267732 0.32495486\n",
      "  0.68380906 0.11310205 0.77926885 0.36147096]\n",
      " [0.95393095 0.88715356 0.8497979  0.03412865 0.87141106 0.18747384\n",
      "  0.0282307  0.96067823 0.84926853 0.00606099]\n",
      " [0.97670806 0.37990482 0.51645901 0.58312886 0.18042729 0.54183378\n",
      "  0.0900016  0.22356619 0.67744124 0.82870744]\n",
      " [0.01862531 0.69483344 0.97775893 0.29179044 0.89045028 0.29771492\n",
      "  0.53394902 0.64041528 0.87699547 0.98353104]\n",
      " [0.19985931 0.70637026 0.61535143 0.2101171  0.69978031 0.44631952\n",
      "  0.20541087 0.38485513 0.61716575 0.85779886]\n",
      " [0.90416591 0.0187555  0.68063087 0.57445072 0.9448431  0.58150235\n",
      "  0.85320253 0.21470856 0.57843261 0.91618295]\n",
      " [0.39897896 0.70945132 0.97222782 0.22341544 0.78771512 0.10816841\n",
      "  0.81707085 0.56156405 0.26454201 0.02938526]]\n"
     ]
    }
   ],
   "source": [
    "test_factorize_qr(np.random.rand(10, 10))"
   ],
   "metadata": {
    "collapsed": false,
    "pycharm": {
     "name": "#%%\n"
    }
   }
  },
  {
   "cell_type": "code",
   "execution_count": 128,
   "outputs": [],
   "source": [
    "def generate_matrices(N, n):\n",
    "    As = [None] * N\n",
    "    A = np.random.rand(n, n)\n",
    "    U, E, V = np.linalg.svd(A)\n",
    "    cond = 2\n",
    "\n",
    "    for i in range(N):\n",
    "        D = np.linspace(cond, 1, n)\n",
    "        cond *= 1 + np.random.random()\n",
    "        As[i] = U @ np.diag(D) @ V\n",
    "\n",
    "    return As\n",
    "\n",
    "def create_plot(As, n):\n",
    "    conds = []; norms = []\n",
    "\n",
    "    for A in As:\n",
    "        Q, R = factorize_qr(A)\n",
    "        conds.append(np.linalg.cond(A))\n",
    "        norms.append(np.linalg.norm(np.identity(n) - Q.T @ Q))\n",
    "\n",
    "    plt.scatter(conds, norms, marker='.')\n",
    "    plt.plot()"
   ],
   "metadata": {
    "collapsed": false,
    "pycharm": {
     "name": "#%%\n"
    }
   }
  },
  {
   "cell_type": "code",
   "execution_count": 139,
   "outputs": [
    {
     "data": {
      "text/plain": "<Figure size 432x288 with 1 Axes>",
      "image/png": "[encoded data removed]"
     },
     "metadata": {
      "needs_background": "light"
     },
     "output_type": "display_data"
    }
   ],
   "source": [
    "N = 50; n = 8\n",
    "As = generate_matrices(N, n)\n",
    "create_plot(As, n)"
   ],
   "metadata": {
    "collapsed": false,
    "pycharm": {
     "name": "#%%\n"
    }
   }
  }
 ],
 "metadata": {
  "kernelspec": {
   "display_name": "Python 3",
   "language": "python",
   "name": "python3"
  },
  "language_info": {
   "codemirror_mode": {
    "name": "ipython",
    "version": 2
   },
   "file_extension": ".py",
   "mimetype": "text/x-python",
   "name": "python",
   "nbconvert_exporter": "python",
   "pygments_lexer": "ipython2",
   "version": "2.7.6"
  }
 },
 "nbformat": 4,
 "nbformat_minor": 0
}