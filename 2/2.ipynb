{
 "cells": [
  {
   "cell_type": "markdown",
   "source": [
    "# Metody Obliczeniowe w Nauce i Technice\n",
    "# Laboratorium 2: Rozwiązywanie układów równań liniowych\n",
    "## Przemysław Roman"
   ],
   "metadata": {
    "collapsed": false,
    "pycharm": {
     "name": "#%% md\n"
    }
   }
  },
  {
   "cell_type": "code",
   "source": [
    "import numpy as np\n",
    "import matplotlib.pyplot as plt\n",
    "import time\n",
    "from copy import deepcopy\n",
    "\n",
    "def time_exec(func, *args):\n",
    "    start_time = time.time()\n",
    "    result = func(*args)\n",
    "    return result, time.time() - start_time"
   ],
   "metadata": {
    "collapsed": false,
    "pycharm": {
     "name": "#%%\n"
    }
   },
   "execution_count": 18,
   "outputs": []
  },
  {
   "cell_type": "markdown",
   "source": [
    "## Zadanie 1 Metoda Gaussa-Jordana"
   ],
   "metadata": {
    "collapsed": false,
    "pycharm": {
     "name": "#%% md\n"
    }
   }
  },
  {
   "cell_type": "markdown",
   "source": [
    "Napisz i sprawdź funkcję rozwiązującą układ równań liniowych n × n metodą Gaussa-\n",
    "Jordana. Dla rozmiarów macierzy współczynników większych niż 500 × 500 porównaj\n",
    "czasy działania zaimplementowanej funkcji z czasami uzyskanymi dla wybranych funkcji\n",
    "bibliotecznych."
   ],
   "metadata": {
    "collapsed": false,
    "pycharm": {
     "name": "#%% md\n"
    }
   }
  },
  {
   "cell_type": "markdown",
   "source": [
    "Funkcje pomocnicze"
   ],
   "metadata": {
    "collapsed": false,
    "pycharm": {
     "name": "#%% md\n"
    }
   }
  },
  {
   "cell_type": "code",
   "execution_count": 19,
   "outputs": [],
   "source": [
    "# układa rzędy tak aby ilość wiodących zer w rzędach była niemalejąca idąc od góry do dołu układu równań\n",
    "def order_rows_by_leading_zeros(AB, n):\n",
    "  pre_zeros = [0] * n\n",
    "\n",
    "  for i in range(n):\n",
    "    for j in range(n):\n",
    "      if AB[i][j] != 0:\n",
    "        break\n",
    "      pre_zeros[i] += 1\n",
    "\n",
    "  sorted_indexes = [i for _, i in sorted(zip(pre_zeros, range(n)))]\n",
    "  return np.array([AB[i] for i in sorted_indexes])\n",
    "\n",
    "def find_max_abs_scalar_i(AB, n, j):\n",
    "    max_i = -1\n",
    "    for i in range(j+1, n):\n",
    "        if AB[i][j] > AB[max_i][j]:\n",
    "            max_i = i\n",
    "    return max_i\n",
    "\n",
    "def partial_pivoting(AB, n, i):\n",
    "    max_i = find_max_abs_scalar_i(AB, n, i)\n",
    "    if max_i != -1:\n",
    "        AB[[i, max_i]] = AB[[max_i, i]]"
   ],
   "metadata": {
    "collapsed": false,
    "pycharm": {
     "name": "#%%\n"
    }
   }
  },
  {
   "cell_type": "markdown",
   "source": [
    "Implementacja algorytmu Gaussa-Jordana"
   ],
   "metadata": {
    "collapsed": false,
    "pycharm": {
     "name": "#%% md\n"
    }
   }
  },
  {
   "cell_type": "code",
   "source": [
    "# i - rząd, j - kolumna\n",
    "def gauss_jordan(AB, n):\n",
    "    AB = order_rows_by_leading_zeros(AB, n)\n",
    "\n",
    "    for i in range(n):\n",
    "        partial_pivoting(AB, n, i)\n",
    "\n",
    "        if AB[i][i] != 0:\n",
    "            # redukcja pivotu do 1\n",
    "            scalar = 1 / AB[i][i]\n",
    "            for j in range(n+1):\n",
    "                AB[i][j] *= scalar\n",
    "\n",
    "            # redukcja współczynników do 0, które znajdują się w tej samej kolumnie co pivot\n",
    "            for k in range(n):\n",
    "                if k != i:\n",
    "                    scalar = AB[k][i] / AB[i][i]\n",
    "                    for j in range(n+1):\n",
    "                        AB[k][j] -= scalar * AB[i][j]\n",
    "\n",
    "    return AB[:,-1] # ostatnia kolumna zawiera wyniki"
   ],
   "metadata": {
    "collapsed": false,
    "pycharm": {
     "name": "#%%\n"
    }
   },
   "execution_count": 30,
   "outputs": []
  },
  {
   "cell_type": "markdown",
   "source": [
    "Dane testowe"
   ],
   "metadata": {
    "collapsed": false,
    "pycharm": {
     "name": "#%% md\n"
    }
   }
  },
  {
   "cell_type": "code",
   "execution_count": 31,
   "outputs": [],
   "source": [
    "n = 500\n",
    "A = np.random.random((n, n))\n",
    "B = np.random.random((n, 1))\n",
    "AB = np.concatenate((A, B), axis=1)"
   ],
   "metadata": {
    "collapsed": false,
    "pycharm": {
     "name": "#%%\n"
    }
   }
  },
  {
   "cell_type": "markdown",
   "source": [
    "Testy poprawności rozwiązania oraz czasu wykonania"
   ],
   "metadata": {
    "collapsed": false,
    "pycharm": {
     "name": "#%% md\n"
    }
   }
  },
  {
   "cell_type": "code",
   "execution_count": 50,
   "outputs": [
    {
     "name": "stdout",
     "output_type": "stream",
     "text": [
      "Moja implementacja: 68.61268734931946[s]\n",
      "np.linalg.solve: 0.002306699752807617[s]\n",
      "Sumaryczny błąd względny: 2.037349022127044e-11\n"
     ]
    }
   ],
   "source": [
    "def get_absolute_errors_sum(vals, expected_vals):\n",
    "    return np.sum(np.absolute(vals - expected_vals))\n",
    "\n",
    "X1, t1 = time_exec(gauss_jordan, deepcopy(AB), n)\n",
    "print(f'Moja implementacja: {t1}[s]')\n",
    "X2, t2 = time_exec(np.linalg.solve, A, B)\n",
    "X2 = X2.flatten()\n",
    "print(f'np.linalg.solve: {t2}[s]')\n",
    "print('Sumaryczny błąd względny:', get_absolute_errors_sum(X1, X2))"
   ],
   "metadata": {
    "collapsed": false,
    "pycharm": {
     "name": "#%%\n"
    }
   }
  }
 ],
 "metadata": {
  "kernelspec": {
   "display_name": "Python 3",
   "language": "python",
   "name": "python3"
  },
  "language_info": {
   "codemirror_mode": {
    "name": "ipython",
    "version": 2
   },
   "file_extension": ".py",
   "mimetype": "text/x-python",
   "name": "python",
   "nbconvert_exporter": "python",
   "pygments_lexer": "ipython2",
   "version": "2.7.6"
  }
 },
 "nbformat": 4,
 "nbformat_minor": 0
}