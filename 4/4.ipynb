{
 "cells": [
  {
   "cell_type": "markdown",
   "source": [
    "# Metody Obliczeniowe w Nauce i Technice\n",
    "# Laboratorium 4: Symulowane wyżarzanie\n",
    "## Przemysław Roman"
   ],
   "metadata": {
    "collapsed": false,
    "pycharm": {
     "name": "#%% md\n"
    }
   }
  },
  {
   "cell_type": "code",
   "source": [
    "import numpy as np\n",
    "import matplotlib.pyplot as plt\n",
    "import time\n",
    "\n",
    "def time_exec(func, *args):\n",
    "    start_time = time.time()\n",
    "    result = func(*args)\n",
    "    return result, time.time() - start_time"
   ],
   "metadata": {
    "collapsed": false,
    "pycharm": {
     "name": "#%%\n"
    }
   },
   "execution_count": 1,
   "outputs": []
  },
  {
   "cell_type": "markdown",
   "source": [
    "## Zadanie 1 TSP"
   ],
   "metadata": {
    "collapsed": false,
    "pycharm": {
     "name": "#%% md\n"
    }
   }
  },
  {
   "cell_type": "markdown",
   "source": [
    "Wygeneruj chmurę n losowych punktów w 2D, a następnie zastosuj algorytm symulowa-\n",
    "nego wyżarzania do przybliżonego rozwiązania problemu komiwojażera dla tych punk-\n",
    "tów.\n",
    "1. Przedstaw wizualizację otrzymanego rozwiązania dla 3 różnych wartości n oraz 3\n",
    "różnych układów punktów w 2D (rozkład jednostajny, rozkład normalny z czterema\n",
    "różnymi grupami parametrów, dziewięć odseparowanych grup punktów).\n",
    "2. Zbadaj wpływ sposobu generacji sąsiedniego stanu (consecutive swap vs. arbitrary\n",
    "swap) oraz funkcji zmiany temperatury na zbieżność procesu optymalizacji.\n",
    "3. Przedstaw wizualizację (saoptimset) działania procedury minimalizującej funkcję\n",
    "celu."
   ],
   "metadata": {
    "collapsed": false,
    "pycharm": {
     "name": "#%% md\n"
    }
   }
  },
  {
   "cell_type": "code",
   "execution_count": 51,
   "outputs": [
    {
     "name": "stdout",
     "output_type": "stream",
     "text": [
      "     fun: 0.0\n",
      " message: ['Maximum number of iteration reached']\n",
      "    nfev: 4184\n",
      "    nhev: 0\n",
      "     nit: 1000\n",
      "    njev: 61\n",
      "  status: 0\n",
      " success: True\n",
      "       x: array([35.30054041, 46.84118009])\n"
     ]
    }
   ],
   "source": [
    "def generate_points(n, min_x, max_x, min_y, max_y):\n",
    "    return np.array([(np.random.randint(min_x, max_x), np.random.randint(min_y, max_y)) for _ in range(n)])\n",
    "\n",
    "def euclidian_distance(A, B):\n",
    "    return np.sqrt((A[0]-B[0])**2 + (A[1]-B[1])**2)\n",
    "\n",
    "def calculate_cost(x, *args):\n",
    "    arbitrary_swap(points, int(x[0]), int(x[1]))\n",
    "    dist = 0\n",
    "    n = len(points)\n",
    "    for i in range(n):\n",
    "        dist += euclidian_distance(points[i], points[(i+1)%n])\n",
    "        # np.linalg.norm(points[x[i]]-points[x[(i+1)%n]])\n",
    "    return dist\n",
    "\n",
    "def arbitrary_swap(order, i, j):\n",
    "    n = len(order)\n",
    "    rng = np.random.default_rng()\n",
    "    # i, j = rng.choice(n, size=2, replace=False)\n",
    "    order[i], order[j] = order[j], order[i]\n",
    "\n",
    "from scipy import optimize\n",
    "\n",
    "n = 100\n",
    "bounds = [[0, 100], [0, 100]]\n",
    "points = generate_points(n, 0, 10, -5, 5)\n",
    "order = [i for i in range(n)]\n",
    "best_order = points\n",
    "# for i in range(10):\n",
    "    # print(calculate_cost(points))\n",
    "print(optimize.dual_annealing(calculate_cost, bounds))"
   ],
   "metadata": {
    "collapsed": false,
    "pycharm": {
     "name": "#%%\n"
    }
   }
  }
 ],
 "metadata": {
  "kernelspec": {
   "display_name": "Python 3",
   "language": "python",
   "name": "python3"
  },
  "language_info": {
   "codemirror_mode": {
    "name": "ipython",
    "version": 2
   },
   "file_extension": ".py",
   "mimetype": "text/x-python",
   "name": "python",
   "nbconvert_exporter": "python",
   "pygments_lexer": "ipython2",
   "version": "2.7.6"
  }
 },
 "nbformat": 4,
 "nbformat_minor": 0
}