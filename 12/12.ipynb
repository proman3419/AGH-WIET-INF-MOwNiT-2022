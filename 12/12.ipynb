{
 "cells": [
  {
   "cell_type": "markdown",
   "source": [
    "# Metody Obliczeniowe w Nauce i Technice\n",
    "# Laboratorium 12: Całkowanie numeryczne\n",
    "## Przemysław Roman"
   ],
   "metadata": {
    "collapsed": false,
    "pycharm": {
     "name": "#%% md\n"
    }
   }
  },
  {
   "cell_type": "code",
   "source": [
    "import numpy as np\n",
    "import matplotlib.pyplot as plt\n",
    "import time\n",
    "import scipy.integrate\n",
    "\n",
    "def time_exec(func, *args):\n",
    "    start_time = time.time()\n",
    "    result = func(*args)\n",
    "    return result, time.time() - start_time\n",
    "\n",
    "np.random.seed(42134)"
   ],
   "metadata": {
    "collapsed": false,
    "pycharm": {
     "name": "#%%\n"
    }
   },
   "execution_count": 1,
   "outputs": []
  },
  {
   "cell_type": "markdown",
   "source": [
    "## Funkcje"
   ],
   "metadata": {
    "collapsed": false,
    "pycharm": {
     "name": "#%% md\n"
    }
   }
  },
  {
   "cell_type": "code",
   "execution_count": 2,
   "outputs": [],
   "source": [
    "def f1(x): return np.exp(-x**2) * np.log(x)**2\n",
    "def f2(x): return 1 / (x**3 -2*x -5)\n",
    "def f3(x): return x**5 * np.exp(-x) * np.sin(x)\n",
    "def f4(x, y): return 1 / (np.sqrt(x+y) * (1+x+y)) # 0 <= x <= 1, 0 <= y 1 - x\n",
    "def f5(x, y): return x**2 + y**2 # -3 <= x <= 3, -5 <= y <= 5"
   ],
   "metadata": {
    "collapsed": false,
    "pycharm": {
     "name": "#%%\n"
    }
   }
  },
  {
   "cell_type": "markdown",
   "source": [
    "## Zadanie 1"
   ],
   "metadata": {
    "collapsed": false,
    "pycharm": {
     "name": "#%% md\n"
    }
   }
  },
  {
   "cell_type": "code",
   "execution_count": 3,
   "outputs": [],
   "source": [
    "V = [20, 30, 60, 100, 40, 10, 0]\n",
    "T = [0, 15, 30, 60, 70, 85, 87]\n",
    "\n",
    "def trapezoid_method(V, T):\n",
    "    n = len(V)\n",
    "    res = 0\n",
    "    for i in range(n-1):\n",
    "        res += (V[i] + V[i+1]) / 2 * (T[i+1] - T[i])\n",
    "    return res"
   ],
   "metadata": {
    "collapsed": false,
    "pycharm": {
     "name": "#%%\n"
    }
   }
  },
  {
   "cell_type": "code",
   "execution_count": 4,
   "outputs": [
    {
     "name": "stdout",
     "output_type": "stream",
     "text": [
      "Wynik implementacji: 4535.0\n",
      "Wynik np.trapz: 4535.0\n"
     ]
    }
   ],
   "source": [
    "my_res = trapezoid_method(V, T)\n",
    "lib_res = np.trapz(V, T)\n",
    "np.testing.assert_almost_equal(my_res, lib_res)\n",
    "print(f'Wynik implementacji: {my_res}')\n",
    "print(f'Wynik np.trapz: {lib_res}')"
   ],
   "metadata": {
    "collapsed": false,
    "pycharm": {
     "name": "#%%\n"
    }
   }
  },
  {
   "cell_type": "markdown",
   "source": [
    "## Zadanie 2"
   ],
   "metadata": {
    "collapsed": false,
    "pycharm": {
     "name": "#%% md\n"
    }
   }
  },
  {
   "cell_type": "code",
   "execution_count": 13,
   "outputs": [],
   "source": [
    "n = 10**6\n",
    "X = np.linspace(0, 1, num=n)\n",
    "Y = np.random.uniform(low=0, high=1, size=(n,))\n",
    "\n",
    "def simpson_method(Y, X):\n",
    "    res = 0\n",
    "    n = len(X)\n",
    "    for i in range(0, n-3, 2):\n",
    "        h = X[i+1] - X[i]\n",
    "        res += h/3 * (Y[i] + 4*Y[i+1] + Y[i+2])\n",
    "    rem = n % 3 + 1\n",
    "    res += trapezoid_method(Y[-rem:], X[-rem:])\n",
    "    return res"
   ],
   "metadata": {
    "collapsed": false,
    "pycharm": {
     "name": "#%%\n"
    }
   }
  },
  {
   "cell_type": "code",
   "execution_count": 16,
   "outputs": [
    {
     "name": "stdout",
     "output_type": "stream",
     "text": [
      "Wynik implementacji: 0.5000313809860384\n",
      "Wynik scipy.integrate.simpson: 0.4998157954061594\n"
     ]
    }
   ],
   "source": [
    "my_res = simpson_method(Y, X)\n",
    "lib_res = scipy.integrate.simpson(Y, X)\n",
    "# np.testing.assert_almost_equal(my_res, lib_res)\n",
    "print(f'Wynik implementacji: {my_res}')\n",
    "print(f'Wynik scipy.integrate.simpson: {lib_res}')"
   ],
   "metadata": {
    "collapsed": false,
    "pycharm": {
     "name": "#%%\n"
    }
   }
  }
 ],
 "metadata": {
  "kernelspec": {
   "display_name": "Python 3",
   "language": "python",
   "name": "python3"
  },
  "language_info": {
   "codemirror_mode": {
    "name": "ipython",
    "version": 2
   },
   "file_extension": ".py",
   "mimetype": "text/x-python",
   "name": "python",
   "nbconvert_exporter": "python",
   "pygments_lexer": "ipython2",
   "version": "2.7.6"
  }
 },
 "nbformat": 4,
 "nbformat_minor": 0
}