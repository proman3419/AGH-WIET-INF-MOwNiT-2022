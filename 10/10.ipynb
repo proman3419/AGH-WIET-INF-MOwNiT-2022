{
 "cells": [
  {
   "cell_type": "markdown",
   "source": [
    "# Metody Obliczeniowe w Nauce i Technice\n",
    "# Laboratorium 10: Dyskretna Transformacja Fouriera\n",
    "## Przemysław Roman"
   ],
   "metadata": {
    "collapsed": false,
    "pycharm": {
     "name": "#%% md\n"
    }
   }
  },
  {
   "cell_type": "code",
   "source": [
    "import numpy as np\n",
    "import matplotlib.pyplot as plt\n",
    "import time\n",
    "\n",
    "def time_exec(func, *args):\n",
    "    start_time = time.time()\n",
    "    result = func(*args)\n",
    "    return result, time.time() - start_time"
   ],
   "metadata": {
    "collapsed": false,
    "pycharm": {
     "name": "#%%\n"
    }
   },
   "execution_count": 2,
   "outputs": []
  },
  {
   "cell_type": "markdown",
   "source": [
    "## Zadanie 1"
   ],
   "metadata": {
    "collapsed": false,
    "pycharm": {
     "name": "#%% md\n"
    }
   }
  },
  {
   "cell_type": "code",
   "execution_count": 59,
   "outputs": [],
   "source": [
    "def DFT_matrix(N):\n",
    "    F = np.zeros((N, N), dtype=complex)\n",
    "    for i in range(N):\n",
    "        for j in range(N):\n",
    "            F[i][j] = np.exp(i * j * -2j * np.pi / N)\n",
    "\n",
    "    return F\n",
    "\n",
    "def DFT(x):\n",
    "    return DFT_matrix(len(x)) @ x"
   ],
   "metadata": {
    "collapsed": false,
    "pycharm": {
     "name": "#%%\n"
    }
   }
  },
  {
   "cell_type": "code",
   "execution_count": 62,
   "outputs": [
    {
     "name": "stdout",
     "output_type": "stream",
     "text": [
      "Wejściowe x: [10.+0.j  2.+0.j  3.+0.j  7.+0.j  5.+0.j 14.+0.j]\n",
      "Wyjściowe y (własna implementacja): [41.+0.00000000e+00j  7.+1.21243557e+01j  5.+8.66025404e+00j\n",
      " -5.-3.30741293e-14j  5.-8.66025404e+00j  7.-1.21243557e+01j]\n",
      "Wyjściowe y (np.fft.fft): [41.+0.00000000e+00j  7.+1.21243557e+01j  5.+8.66025404e+00j\n",
      " -5.-8.88178420e-16j  5.-8.66025404e+00j  7.-1.21243557e+01j]\n"
     ]
    }
   ],
   "source": [
    "x = np.array([10, 2, 3, 7, 5, 14], dtype=complex)\n",
    "y = DFT(x) # do testowania IDFT\n",
    "y_np = np.fft.fft(x)\n",
    "print(f'Wejściowe x: {x}')\n",
    "print(f'Wyjściowe y (własna implementacja): {y}')\n",
    "print(f'Wyjściowe y (np.fft.fft): {y_np}')\n",
    "np.testing.assert_allclose(y, y_np)"
   ],
   "metadata": {
    "collapsed": false,
    "pycharm": {
     "name": "#%%\n"
    }
   }
  },
  {
   "cell_type": "code",
   "execution_count": 63,
   "outputs": [],
   "source": [
    "def IDFT(y):\n",
    "    N = len(y)\n",
    "    return np.conjugate(DFT_matrix(N) @ np.conjugate(y)) / N"
   ],
   "metadata": {
    "collapsed": false,
    "pycharm": {
     "name": "#%%\n"
    }
   }
  },
  {
   "cell_type": "code",
   "execution_count": 64,
   "outputs": [
    {
     "name": "stdout",
     "output_type": "stream",
     "text": [
      "Wejściowe y: [41.+0.00000000e+00j  7.+1.21243557e+01j  5.+8.66025404e+00j\n",
      " -5.-3.30741293e-14j  5.-8.66025404e+00j  7.-1.21243557e+01j]\n",
      "Wyjściowe x (własna implementacja): [10.-1.06581410e-14j  2.+9.17784367e-15j  3.-3.59778754e-15j\n",
      "  7.+1.15463195e-14j  5.+2.36847579e-15j 14.+8.22229977e-16j]\n",
      "Wyjściowe x (np.fft.ifft): [10.-1.08414254e-14j  2.+8.47294962e-15j  3.-2.33502958e-15j\n",
      "  7.+9.67274806e-15j  5.-3.36060967e-15j 14.-1.60863303e-15j]\n"
     ]
    }
   ],
   "source": [
    "x = IDFT(y)\n",
    "x_np = np.fft.ifft(y)\n",
    "print(f'Wejściowe y: {y}')\n",
    "print(f'Wyjściowe x (własna implementacja): {x}')\n",
    "print(f'Wyjściowe x (np.fft.ifft): {x_np}')\n",
    "np.testing.assert_allclose(x, x_np)"
   ],
   "metadata": {
    "collapsed": false,
    "pycharm": {
     "name": "#%%\n"
    }
   }
  },
  {
   "cell_type": "code",
   "execution_count": 95,
   "outputs": [],
   "source": [
    "def cooley_tukey_FFT(x):\n",
    "    N = len(x)\n",
    "    if N == 2:\n",
    "        return DFT_matrix(2) @ x\n",
    "\n",
    "    even = cooley_tukey_FFT(x[0::2])\n",
    "    odd = cooley_tukey_FFT(x[1::2])\n",
    "\n",
    "    S = np.zeros(N, dtype=complex)\n",
    "    for i in range(N//2):\n",
    "        S[i] = np.exp(-1j * np.pi * i/(N//2))\n",
    "\n",
    "    return np.array([even[k] + S[k] * odd[k] for k in range(N//2)] +\n",
    "                    [even[k] - S[k] * odd[k] for k in range(N//2)])"
   ],
   "metadata": {
    "collapsed": false,
    "pycharm": {
     "name": "#%%\n"
    }
   }
  },
  {
   "cell_type": "code",
   "execution_count": 97,
   "outputs": [
    {
     "name": "stdout",
     "output_type": "stream",
     "text": [
      "Wejściowe x: [ 0.+0.j  1.+0.j  2.+0.j  3.+0.j  4.+0.j  5.+0.j  6.+0.j  7.+0.j  8.+0.j\n",
      "  9.+0.j 10.+0.j 11.+0.j 12.+0.j 13.+0.j 14.+0.j 15.+0.j 16.+0.j 17.+0.j\n",
      " 18.+0.j 19.+0.j 20.+0.j 21.+0.j 22.+0.j 23.+0.j 24.+0.j 25.+0.j 26.+0.j\n",
      " 27.+0.j 28.+0.j 29.+0.j 30.+0.j 31.+0.j 32.+0.j 33.+0.j 34.+0.j 35.+0.j\n",
      " 36.+0.j 37.+0.j 38.+0.j 39.+0.j 40.+0.j 41.+0.j 42.+0.j 43.+0.j 44.+0.j\n",
      " 45.+0.j 46.+0.j 47.+0.j 48.+0.j 49.+0.j 50.+0.j 51.+0.j 52.+0.j 53.+0.j\n",
      " 54.+0.j 55.+0.j 56.+0.j 57.+0.j 58.+0.j 59.+0.j 60.+0.j 61.+0.j 62.+0.j\n",
      " 63.+0.j]\n",
      "Wyjściowe y (własna implementacja): [2016.  +0.j          -32.+651.374964j    -32.+324.9014524j\n",
      "  -32.+215.72647697j  -32.+160.87486375j  -32.+127.75116108j\n",
      "  -32.+105.48986269j  -32. +89.43400872j  -32. +77.254834j\n",
      "  -32. +67.65831544j  -32. +59.86778918j  -32. +53.38877458j\n",
      "  -32. +47.89138441j  -32. +43.14700523j  -32. +38.99211282j\n",
      "  -32. +35.30655922j  -32. +32.j          -32. +29.00310941j\n",
      "  -32. +26.26172131j  -32. +23.73281748j  -32. +21.38171641j\n",
      "  -32. +19.18006188j  -32. +17.10435635j  -32. +15.13487283j\n",
      "  -32. +13.254834j    -32. +11.44978308j  -32.  +9.70709388j\n",
      "  -32.  +8.01558273j  -32.  +6.36519576j  -32.  +4.7467516j\n",
      "  -32.  +3.15172491j  -32.  +1.57205919j  -32.  +0.j\n",
      "  -32.  -1.57205919j  -32.  -3.15172491j  -32.  -4.7467516j\n",
      "  -32.  -6.36519576j  -32.  -8.01558273j  -32.  -9.70709388j\n",
      "  -32. -11.44978308j  -32. -13.254834j    -32. -15.13487283j\n",
      "  -32. -17.10435635j  -32. -19.18006188j  -32. -21.38171641j\n",
      "  -32. -23.73281748j  -32. -26.26172131j  -32. -29.00310941j\n",
      "  -32. -32.j          -32. -35.30655922j  -32. -38.99211282j\n",
      "  -32. -43.14700523j  -32. -47.89138441j  -32. -53.38877458j\n",
      "  -32. -59.86778918j  -32. -67.65831544j  -32. -77.254834j\n",
      "  -32. -89.43400872j  -32.-105.48986269j  -32.-127.75116108j\n",
      "  -32.-160.87486375j  -32.-215.72647697j  -32.-324.9014524j\n",
      "  -32.-651.374964j  ]\n",
      "Wyjściowe y (np.fft.fft): [2016.  +0.j          -32.+651.374964j    -32.+324.9014524j\n",
      "  -32.+215.72647697j  -32.+160.87486375j  -32.+127.75116108j\n",
      "  -32.+105.48986269j  -32. +89.43400872j  -32. +77.254834j\n",
      "  -32. +67.65831544j  -32. +59.86778918j  -32. +53.38877458j\n",
      "  -32. +47.89138441j  -32. +43.14700523j  -32. +38.99211282j\n",
      "  -32. +35.30655922j  -32. +32.j          -32. +29.00310941j\n",
      "  -32. +26.26172131j  -32. +23.73281748j  -32. +21.38171641j\n",
      "  -32. +19.18006188j  -32. +17.10435635j  -32. +15.13487283j\n",
      "  -32. +13.254834j    -32. +11.44978308j  -32.  +9.70709388j\n",
      "  -32.  +8.01558273j  -32.  +6.36519576j  -32.  +4.7467516j\n",
      "  -32.  +3.15172491j  -32.  +1.57205919j  -32.  +0.j\n",
      "  -32.  -1.57205919j  -32.  -3.15172491j  -32.  -4.7467516j\n",
      "  -32.  -6.36519576j  -32.  -8.01558273j  -32.  -9.70709388j\n",
      "  -32. -11.44978308j  -32. -13.254834j    -32. -15.13487283j\n",
      "  -32. -17.10435635j  -32. -19.18006188j  -32. -21.38171641j\n",
      "  -32. -23.73281748j  -32. -26.26172131j  -32. -29.00310941j\n",
      "  -32. -32.j          -32. -35.30655922j  -32. -38.99211282j\n",
      "  -32. -43.14700523j  -32. -47.89138441j  -32. -53.38877458j\n",
      "  -32. -59.86778918j  -32. -67.65831544j  -32. -77.254834j\n",
      "  -32. -89.43400872j  -32.-105.48986269j  -32.-127.75116108j\n",
      "  -32.-160.87486375j  -32.-215.72647697j  -32.-324.9014524j\n",
      "  -32.-651.374964j  ]\n"
     ]
    }
   ],
   "source": [
    "x = np.array(list(range(64)), dtype=complex)\n",
    "y = cooley_tukey_FFT(x)\n",
    "y_np = np.fft.fft(x)\n",
    "print(f'Wejściowe x: {x}')\n",
    "print(f'Wyjściowe y (własna implementacja): {y}')\n",
    "print(f'Wyjściowe y (np.fft.fft): {y_np}')\n",
    "np.testing.assert_allclose(y, y_np)"
   ],
   "metadata": {
    "collapsed": false,
    "pycharm": {
     "name": "#%%\n"
    }
   }
  }
 ],
 "metadata": {
  "kernelspec": {
   "display_name": "Python 3",
   "language": "python",
   "name": "python3"
  },
  "language_info": {
   "codemirror_mode": {
    "name": "ipython",
    "version": 2
   },
   "file_extension": ".py",
   "mimetype": "text/x-python",
   "name": "python",
   "nbconvert_exporter": "python",
   "pygments_lexer": "ipython2",
   "version": "2.7.6"
  }
 },
 "nbformat": 4,
 "nbformat_minor": 0
}