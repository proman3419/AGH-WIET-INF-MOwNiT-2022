{
 "cells": [
  {
   "cell_type": "markdown",
   "source": [
    "# Metody Obliczeniowe w Nauce i Technice\n",
    "# Laboratorium 1: Arytmetyka komputerowa\n",
    "## Przemysław Roman"
   ],
   "metadata": {
    "collapsed": false,
    "pycharm": {
     "name": "#%% md\n"
    }
   }
  },
  {
   "cell_type": "code",
   "execution_count": 1,
   "metadata": {
    "pycharm": {
     "name": "#%%\n"
    }
   },
   "outputs": [],
   "source": [
    "import numpy as np\n",
    "import matplotlib.pyplot as plt\n",
    "import time\n",
    "\n",
    "def time_exec(func, *args):\n",
    "    start_time = time.time()\n",
    "    result = func(*args)\n",
    "    return (result, time.time() - start_time)"
   ]
  },
  {
   "cell_type": "markdown",
   "metadata": {},
   "source": [
    "## Zadanie 1 Sumowanie liczb pojedynczej precyzji"
   ]
  },
  {
   "cell_type": "markdown",
   "metadata": {},
   "source": [
    "1. Napisz program, który oblicza sumę N liczb pojedynczej precyzji przechowywanych\n",
    "w tablicy o N = 10^7 elementach. Tablica wypełniona jest tą samą wartością v z\n",
    "przedziału [0.1, 0.9] np. v = 0.53125."
   ]
  },
  {
   "cell_type": "code",
   "execution_count": 2,
   "metadata": {
    "pycharm": {
     "name": "#%%\n"
    }
   },
   "outputs": [
    {
     "data": {
      "text/plain": "(0.53125, numpy.float32)"
     },
     "execution_count": 2,
     "metadata": {},
     "output_type": "execute_result"
    }
   ],
   "source": [
    "N = 10**7\n",
    "v = np.float32(0.53125)\n",
    "arr = np.array([v]*N)\n",
    "\n",
    "v, type(v)"
   ]
  },
  {
   "cell_type": "code",
   "execution_count": 3,
   "metadata": {
    "pycharm": {
     "name": "#%%\n"
    }
   },
   "outputs": [
    {
     "data": {
      "text/plain": "5030840.5"
     },
     "execution_count": 3,
     "metadata": {},
     "output_type": "execute_result"
    }
   ],
   "source": [
    "def sum_naively(arr):\n",
    "    _sum = np.float32(0)\n",
    "    for i in range(N):\n",
    "        _sum += arr[i]\n",
    "    return _sum\n",
    "\n",
    "naive_sum, naive_sum_time = time_exec(sum_naively, arr)\n",
    "naive_sum"
   ]
  },
  {
   "cell_type": "markdown",
   "metadata": {},
   "source": [
    "2. Wyznacz bezwzględny i względny błąd obliczeń. Dlaczego błąd względny jest tak\n",
    "duży?"
   ]
  },
  {
   "cell_type": "code",
   "execution_count": 4,
   "metadata": {
    "pycharm": {
     "name": "#%%\n"
    }
   },
   "outputs": [
    {
     "name": "stdout",
     "output_type": "stream",
     "text": [
      "błąd bezwzględny: 281659.5\n",
      "błąd względny: 0.05301825882352941\n"
     ]
    }
   ],
   "source": [
    "def get_absolute_error(expected_val, val):\n",
    "    return abs(expected_val - val)\n",
    "\n",
    "def get_relative_error(expected_val, val):\n",
    "    return get_absolute_error(expected_val, val) / expected_val\n",
    "\n",
    "def print_errors(expected_val, val):\n",
    "    print(f'błąd bezwzględny: {get_absolute_error(expected_val, val)}')\n",
    "    print(f'błąd względny: {get_relative_error(expected_val, val)}')\n",
    "\n",
    "expected_sum = N * v\n",
    "print_errors(expected_sum, naive_sum)"
   ]
  },
  {
   "cell_type": "markdown",
   "metadata": {},
   "source": [
    "Błąd względny jest duży ponieważ od pewnego momentu zmienna przechowująca sumę jest znacznie większa od wartości dodawanych.\n",
    "Powoduje to utratę mniej znaczących bitów wartości dodawanej.\n",
    "Dodatkowo wykonujemy takie sumowanie wielokrotnie więc błąd się kumuluje."
   ]
  },
  {
   "cell_type": "markdown",
   "metadata": {},
   "source": [
    "3. W jaki sposób rośnie błąd względny w trakcie sumowania? Przedstaw wykres (ra-\n",
    "portuj wartość błędu co 25000 kroków) i dokonaj jego interpretacji."
   ]
  },
  {
   "cell_type": "code",
   "execution_count": 5,
   "metadata": {
    "pycharm": {
     "name": "#%%\n"
    }
   },
   "outputs": [
    {
     "data": {
      "text/plain": "Text(0, 0.5, 'Wartość błędu')"
     },
     "execution_count": 5,
     "metadata": {},
     "output_type": "execute_result"
    },
    {
     "data": {
      "text/plain": "<Figure size 432x288 with 1 Axes>",
      "image/png": "[encoded data removed]"
     },
     "metadata": {
      "needs_background": "light"
     },
     "output_type": "display_data"
    }
   ],
   "source": [
    "relative_errors = []\n",
    "naive_sum = np.float32(0)\n",
    "for i in range(N):\n",
    "    naive_sum += v\n",
    "    if i % 25000 == 0 and i != 0:\n",
    "        ratio = np.float32(i / N)\n",
    "        expected_val = np.float32(expected_sum * ratio)\n",
    "        relative_errors.append(get_relative_error(expected_val, naive_sum))\n",
    "\n",
    "plt.plot(relative_errors)\n",
    "plt.xlabel('Nr pomiaru błędu')\n",
    "plt.ylabel('Wartość błędu')"
   ]
  },
  {
   "cell_type": "markdown",
   "metadata": {},
   "source": [
    "Krzywa błędu przypomina wykres logarytmiczny, można ją podzielić na 2 przedziały (granice są szacowane):\n",
    "$$ x \\in [0, 40] $$\n",
    "Wartość błędu jest znikoma, ponieważ suma dla tylu elementów nie jest dostatecznie większa od wartości dodawanych.\n",
    "\n",
    "$$ x \\in [40, 400] $$\n",
    "Wartość błędu rośnie, ponieważ suma jest dostatecznie duża, żeby występowała utrata mniej znaczących bitów wartości dodawanej.\n",
    "Wzrost błędu jest na początku gwałtowny i maleje wraz ze wzrostem x (tracona część wartości dodawanej maleje, suma rośnie)."
   ]
  },
  {
   "cell_type": "markdown",
   "metadata": {},
   "source": [
    "4. Zaimplementuj rekurencyjny algorytm sumowania, działający jak na rysunku po-\n",
    "niżej.\n",
    "![Rekurencyjny algorytm sumowania](sum_recursive.png)"
   ]
  },
  {
   "cell_type": "code",
   "execution_count": 6,
   "metadata": {
    "pycharm": {
     "name": "#%%\n"
    }
   },
   "outputs": [
    {
     "data": {
      "text/plain": "5312500.0"
     },
     "execution_count": 6,
     "metadata": {},
     "output_type": "execute_result"
    }
   ],
   "source": [
    "def sum_recursively(arr):\n",
    "    n = len(arr)\n",
    "    if n == 0:\n",
    "        return np.float32(0)\n",
    "    elif n == 1:\n",
    "        return arr[0]\n",
    "    elif n == 2:\n",
    "        return arr[0] + arr[1]\n",
    "    else:\n",
    "        return sum_recursively(arr[:n//2]) + sum_recursively(arr[n//2:])\n",
    "\n",
    "recursive_sum, recursive_sum_time = time_exec(sum_recursively, arr)\n",
    "recursive_sum"
   ]
  },
  {
   "cell_type": "markdown",
   "metadata": {},
   "source": [
    "6. Wyznacz bezwzględny i względny błąd obliczeń. Dlaczego błąd względny znacznie\n",
    "zmalał?"
   ]
  },
  {
   "cell_type": "code",
   "execution_count": 7,
   "metadata": {
    "pycharm": {
     "name": "#%%\n"
    }
   },
   "outputs": [
    {
     "name": "stdout",
     "output_type": "stream",
     "text": [
      "błąd bezwzględny: 0.0\n",
      "błąd względny: 0.0\n"
     ]
    }
   ],
   "source": [
    "print_errors(expected_sum, recursive_sum)"
   ]
  },
  {
   "cell_type": "markdown",
   "metadata": {},
   "source": [
    "Błąd zmalał ponieważ na każdym etapie sumujemy liczby tego samego rzędu wielkości."
   ]
  },
  {
   "cell_type": "markdown",
   "metadata": {},
   "source": [
    "6. Porównaj czas działania obu algorytmów dla tych samych danych wejściowych."
   ]
  },
  {
   "cell_type": "code",
   "execution_count": 8,
   "metadata": {
    "pycharm": {
     "name": "#%%\n"
    }
   },
   "outputs": [
    {
     "name": "stdout",
     "output_type": "stream",
     "text": [
      "podejście naiwne: 1.6327824592590332s\n",
      "podejście rekurencyjne: 5.20123553276062s\n"
     ]
    }
   ],
   "source": [
    "print(f'podejście naiwne: {naive_sum_time}s')\n",
    "print(f'podejście rekurencyjne: {recursive_sum_time}s')"
   ]
  },
  {
   "cell_type": "markdown",
   "metadata": {},
   "source": [
    "Podejście rekurencyjne wykonuje się dłużej (~*4) w porównaniu do podejścia naiwnego.\n",
    "Przy wywoływaniu funkcji rekurencyjnie należy najpierw zejść wgłąb drzewa wywołań a następnie wrócić, dlatego podejście to wykonuje się dłużej.\n",
    "Warto również zwrócić uwagę na fakt, że dla większych tablic nie uzyskamy wyniku,\n",
    "ponieważ osiągniemy maksymalną głębokość zagnieżdżenia rekurencji zanim go obliczymy."
   ]
  },
  {
   "cell_type": "markdown",
   "metadata": {
    "pycharm": {
     "name": "#%% md\n"
    }
   },
   "source": [
    "7. Przedstaw przykładowe dane wejściowe, dla których algorytm sumowania rekuren-\n",
    "cyjnego zwraca niezerowy błąd."
   ]
  },
  {
   "cell_type": "code",
   "execution_count": 9,
   "metadata": {
    "pycharm": {
     "name": "#%%\n"
    }
   },
   "outputs": [],
   "source": [
    "_N = 10**7\n",
    "_v = 0.37296\n",
    "_arr = [np.float32(_v)] * _N\n",
    "_expected_sum = _N * _v\n",
    "_recursive_sum, _recursive_sum_time = time_exec(sum_recursively, _arr)"
   ]
  },
  {
   "cell_type": "code",
   "execution_count": 10,
   "metadata": {
    "pycharm": {
     "name": "#%%\n"
    }
   },
   "outputs": [
    {
     "name": "stdout",
     "output_type": "stream",
     "text": [
      "błąd bezwzględny: 0.25\n",
      "błąd względny: 6.703131703131703e-08\n"
     ]
    }
   ],
   "source": [
    "print_errors(_expected_sum, _recursive_sum)"
   ]
  },
  {
   "cell_type": "markdown",
   "metadata": {},
   "source": [
    "## Zadanie 2 Algorytm Kahana"
   ]
  },
  {
   "cell_type": "markdown",
   "metadata": {},
   "source": [
    "0. Zaimplementuj algorytm sumowania Kahana."
   ]
  },
  {
   "cell_type": "code",
   "execution_count": 11,
   "metadata": {
    "pycharm": {
     "name": "#%%\n"
    }
   },
   "outputs": [],
   "source": [
    "def sum_kahan(arr):\n",
    "    N = len(arr)\n",
    "    _sum = np.float32(0)\n",
    "    err = np.float32(0)\n",
    "\n",
    "    for i in range(N):\n",
    "        y = arr[i] - err\n",
    "        temp = _sum + y\n",
    "        err = (temp - _sum) - y\n",
    "        _sum = temp\n",
    "\n",
    "    return _sum"
   ]
  },
  {
   "cell_type": "markdown",
   "metadata": {},
   "source": [
    "1. Wyznacz bezwzględny i względny błąd obliczeń dla tych samych danych wejścio-\n",
    "wych jak w przypadku testów z Zadania 1."
   ]
  },
  {
   "cell_type": "code",
   "execution_count": 12,
   "metadata": {
    "pycharm": {
     "name": "#%%\n"
    }
   },
   "outputs": [
    {
     "name": "stdout",
     "output_type": "stream",
     "text": [
      "błąd bezwzględny: 0.0\n",
      "błąd względny: 0.0\n"
     ]
    }
   ],
   "source": [
    "kahan_sum, kahan_sum_time = time_exec(sum_kahan, arr)\n",
    "print_errors(expected_sum, kahan_sum)"
   ]
  },
  {
   "cell_type": "markdown",
   "metadata": {},
   "source": [
    "2. Wyjaśnij dlaczego w algorytm Kahana ma znacznie lepsze własności numeryczne?\n",
    "Do czego służy zmienna err?"
   ]
  },
  {
   "cell_type": "markdown",
   "metadata": {},
   "source": [
    "Algorytm Kahana wprowadza zmienną err w celu szacowania błędu spowodowanego przez utratę mniej znaczących bitów wartości dodawanej.\n",
    "```python\n",
    "y = arr[i] - err # uwzględniamy utracone niskie bity z poprzedniej iteracji (-(-(niższe bity y)))\n",
    "temp = _sum + y\n",
    "err = (temp - _sum) - y # (temp - _sum) odzyskuje wyższe bity y,\n",
    "# po odjęciu od tej wartości y otrzymujemy -(niższe bity y)\n",
    "_sum = temp\n",
    "```"
   ]
  },
  {
   "cell_type": "markdown",
   "metadata": {},
   "source": [
    "3. Porównaj czasy działania algorytmu Kahana oraz algorytmu sumowania rekuren-\n",
    "cyjnego dla tych samych danych wejściowych."
   ]
  },
  {
   "cell_type": "code",
   "execution_count": 13,
   "metadata": {
    "pycharm": {
     "name": "#%%\n"
    }
   },
   "outputs": [
    {
     "name": "stdout",
     "output_type": "stream",
     "text": [
      "podejście Kahana: 2.991056442260742s\n",
      "podejście rekurencyjne: 5.20123553276062s\n"
     ]
    }
   ],
   "source": [
    "print(f'podejście Kahana: {kahan_sum_time}s')\n",
    "print(f'podejście rekurencyjne: {recursive_sum_time}s')"
   ]
  },
  {
   "cell_type": "markdown",
   "metadata": {},
   "source": [
    "Na maszynie, na której przygotowywałem ten dokument podejście Kahana wykonywało się szybciej od podejścia rekurencyjnego.\n",
    "Nie jest to jednak zasadą, średnio powinny się wykonywać w przybliżonym czasie."
   ]
  },
  {
   "cell_type": "markdown",
   "source": [
    "Przewagą algorytmu Kahana nad podejściem rekurencyjnym jest:\n",
    " - brak problemu z limitem na zagnieżdżenie rekurencji,\n",
    " - nie wymaga dodatkowej pamięci na wykonywanie rekurencji."
   ],
   "metadata": {
    "collapsed": false
   }
  },
  {
   "cell_type": "markdown",
   "metadata": {
    "pycharm": {
     "name": "#%% md\n"
    }
   },
   "source": [
    "## Zadanie 3 Sumy częściowe"
   ]
  },
  {
   "cell_type": "markdown",
   "source": [
    "Rozważ sumy częściowe szeregu definiującego funkcję dzeta Riemanna\n",
    "$$ \\zeta(s) = \\sum_{k=1}^{n} \\frac{1}{k^{s}} $$\n",
    "oraz funkcję eta Dirichleta\n",
    "$$ \\eta(s) = \\sum_{k=1}^{n} (-1)^{k-1} \\frac{1}{k^{s}} $$"
   ],
   "metadata": {
    "collapsed": false
   }
  },
  {
   "cell_type": "code",
   "execution_count": 14,
   "metadata": {
    "pycharm": {
     "name": "#%%\n"
    }
   },
   "outputs": [
    {
     "name": "stdout",
     "output_type": "stream",
     "text": [
      "dzeta Riemann ======================================================================================\n",
      "s: 2, n: 50\n",
      "\tfloat32 forward: 1.6251329183578491\n",
      "\tfloat32 backward: 1.62513267993927\n",
      "\tfloat64 forward: 1.625132733621529\n",
      "\tfloat64 backward: 1.6251327336215293\n",
      "\n",
      "\tfloat32 vs float64: 1.8473632001914098e-07, -5.368225930446613e-08\n",
      "\tforward vs backward: 2.384185791015625e-07, -2.220446049250313e-16\n",
      "\n",
      "s: 2, n: 100\n",
      "\tfloat32 forward: 1.634984016418457\n",
      "\tfloat32 backward: 1.6349838972091675\n",
      "\tfloat64 forward: 1.6349839001848923\n",
      "\tfloat64 backward: 1.634983900184893\n",
      "\n",
      "\tfloat32 vs float64: 1.1623356477308278e-07, -2.975725443832289e-09\n",
      "\tforward vs backward: 1.1920928955078125e-07, -6.661338147750939e-16\n",
      "\n",
      "s: 2, n: 200\n",
      "\tfloat32 forward: 1.639946699142456\n",
      "\tfloat32 backward: 1.639946460723877\n",
      "\tfloat64 forward: 1.6399465460149971\n",
      "\tfloat64 backward: 1.6399465460149973\n",
      "\n",
      "\tfloat32 vs float64: 1.5312745893503177e-07, -8.529112038857534e-08\n",
      "\tforward vs backward: 2.384185791015625e-07, -2.220446049250313e-16\n",
      "\n",
      "s: 2, n: 500\n",
      "\tfloat32 forward: 1.6429359912872314\n",
      "\tfloat32 backward: 1.6429359912872314\n",
      "\tfloat64 forward: 1.642936065514894\n",
      "\tfloat64 backward: 1.6429360655148941\n",
      "\n",
      "\tfloat32 vs float64: -7.422766246101276e-08, -7.422766268305736e-08\n",
      "\tforward vs backward: 0.0, -2.220446049250313e-16\n",
      "\n",
      "s: 2, n: 1000\n",
      "\tfloat32 forward: 1.6439348459243774\n",
      "\tfloat32 backward: 1.6439344882965088\n",
      "\tfloat64 forward: 1.6439345666815615\n",
      "\tfloat64 backward: 1.6439345666815597\n",
      "\n",
      "\tfloat32 vs float64: 2.7924281598146194e-07, -7.838505089452497e-08\n",
      "\tforward vs backward: 3.5762786865234375e-07, 1.7763568394002505e-15\n",
      "\n",
      "s: 3.6667, n: 50\n",
      "\tfloat32 forward: 1.109399437904358\n",
      "\tfloat32 backward: 1.1093997955322266\n",
      "\tfloat64 forward: 1.1093997551541945\n",
      "\tfloat64 backward: 1.1093997551541943\n",
      "\n",
      "\tfloat32 vs float64: -3.172498366232901e-07, 4.037803225109826e-08\n",
      "\tforward vs backward: -3.5762786865234375e-07, 2.220446049250313e-16\n",
      "\n",
      "s: 3.6667, n: 100\n",
      "\tfloat32 forward: 1.1094086170196533\n",
      "\tfloat32 backward: 1.1094088554382324\n",
      "\tfloat64 forward: 1.1094087973421474\n",
      "\tfloat64 backward: 1.1094087973421476\n",
      "\n",
      "\tfloat32 vs float64: -1.8032249404775769e-07, 5.809608483176021e-08\n",
      "\tforward vs backward: -2.384185791015625e-07, -2.220446049250313e-16\n",
      "\n",
      "s: 3.6667, n: 200\n",
      "\tfloat32 forward: 1.1094086170196533\n",
      "\tfloat32 backward: 1.109410285949707\n",
      "\tfloat64 forward: 1.1094102423332313\n",
      "\tfloat64 backward: 1.109410242333231\n",
      "\n",
      "\tfloat32 vs float64: -1.6253135779464856e-06, 4.361647598649654e-08\n",
      "\tforward vs backward: -1.6689300537109375e-06, 2.220446049250313e-16\n",
      "\n",
      "s: 3.6667, n: 500\n",
      "\tfloat32 forward: 1.1094086170196533\n",
      "\tfloat32 backward: 1.1094105243682861\n",
      "\tfloat64 forward: 1.1094104908440712\n",
      "\tfloat64 backward: 1.1094104908440725\n",
      "\n",
      "\tfloat32 vs float64: -1.8738244178528873e-06, 3.3524213627345034e-08\n",
      "\tforward vs backward: -1.9073486328125e-06, -1.3322676295501878e-15\n",
      "\n",
      "s: 3.6667, n: 1000\n",
      "\tfloat32 forward: 1.1094086170196533\n",
      "\tfloat32 backward: 1.1094105243682861\n",
      "\tfloat64 forward: 1.1094105108423578\n",
      "\tfloat64 backward: 1.1094105108423593\n",
      "\n",
      "\tfloat32 vs float64: -1.8938227044351663e-06, 1.352592682302145e-08\n",
      "\tforward vs backward: -1.9073486328125e-06, -1.5543122344752192e-15\n",
      "\n",
      "s: 5, n: 50\n",
      "\tfloat32 forward: 1.0369274616241455\n",
      "\tfloat32 backward: 1.0369277000427246\n",
      "\tfloat64 forward: 1.036927716716712\n",
      "\tfloat64 backward: 1.0369277167167108\n",
      "\n",
      "\tfloat32 vs float64: -2.550925664035475e-07, -1.667398619176197e-08\n",
      "\tforward vs backward: -2.384185791015625e-07, 1.1102230246251565e-15\n",
      "\n",
      "s: 5, n: 100\n",
      "\tfloat32 forward: 1.0369274616241455\n",
      "\tfloat32 backward: 1.0369277000427246\n",
      "\tfloat64 forward: 1.0369277526929555\n",
      "\tfloat64 backward: 1.0369277526929532\n",
      "\n",
      "\tfloat32 vs float64: -2.9106880994334006e-07, -5.265022862133151e-08\n",
      "\tforward vs backward: -2.384185791015625e-07, 2.220446049250313e-15\n",
      "\n",
      "s: 5, n: 200\n",
      "\tfloat32 forward: 1.0369274616241455\n",
      "\tfloat32 backward: 1.0369277000427246\n",
      "\tfloat64 forward: 1.0369277549886775\n",
      "\tfloat64 backward: 1.036927754988676\n",
      "\n",
      "\tfloat32 vs float64: -2.933645320002398e-07, -5.4945951344365085e-08\n",
      "\tforward vs backward: -2.384185791015625e-07, 1.5543122344752192e-15\n",
      "\n",
      "s: 5, n: 500\n",
      "\tfloat32 forward: 1.0369274616241455\n",
      "\tfloat32 backward: 1.0369277000427246\n",
      "\tfloat64 forward: 1.0369277551393863\n",
      "\tfloat64 backward: 1.0369277551393858\n",
      "\n",
      "\tfloat32 vs float64: -2.935152407790298e-07, -5.5096661233378086e-08\n",
      "\tforward vs backward: -2.384185791015625e-07, 4.440892098500626e-16\n",
      "\n",
      "s: 5, n: 1000\n",
      "\tfloat32 forward: 1.0369274616241455\n",
      "\tfloat32 backward: 1.0369277000427246\n",
      "\tfloat64 forward: 1.0369277551431222\n",
      "\tfloat64 backward: 1.0369277551431204\n",
      "\n",
      "\tfloat32 vs float64: -2.9351897667950766e-07, -5.510039580158832e-08\n",
      "\tforward vs backward: -2.384185791015625e-07, 1.7763568394002505e-15\n",
      "\n",
      "s: 7.2, n: 50\n",
      "\tfloat32 forward: 1.0072276592254639\n",
      "\tfloat32 backward: 1.0072276592254639\n",
      "\tfloat64 forward: 1.0072276664762816\n",
      "\tfloat64 backward: 1.0072276664762823\n",
      "\n",
      "\tfloat32 vs float64: -7.250817724013814e-09, -7.250818390147629e-09\n",
      "\tforward vs backward: 0.0, -6.661338147750939e-16\n",
      "\n",
      "s: 7.2, n: 100\n",
      "\tfloat32 forward: 1.0072276592254639\n",
      "\tfloat32 backward: 1.0072276592254639\n",
      "\tfloat64 forward: 1.007227666480654\n",
      "\tfloat64 backward: 1.007227666480655\n",
      "\n",
      "\tfloat32 vs float64: -7.2551902263739976e-09, -7.255191114552417e-09\n",
      "\tforward vs backward: 0.0, -8.881784197001252e-16\n",
      "\n",
      "s: 7.2, n: 200\n",
      "\tfloat32 forward: 1.0072276592254639\n",
      "\tfloat32 backward: 1.0072276592254639\n",
      "\tfloat64 forward: 1.0072276664807145\n",
      "\tfloat64 backward: 1.0072276664807163\n",
      "\n",
      "\tfloat32 vs float64: -7.255250622506537e-09, -7.2552523988633766e-09\n",
      "\tforward vs backward: 0.0, -1.7763568394002505e-15\n",
      "\n",
      "s: 7.2, n: 500\n",
      "\tfloat32 forward: 1.0072276592254639\n",
      "\tfloat32 backward: 1.0072276592254639\n",
      "\tfloat64 forward: 1.0072276664807145\n",
      "\tfloat64 backward: 1.0072276664807172\n",
      "\n",
      "\tfloat32 vs float64: -7.255250622506537e-09, -7.255253287041796e-09\n",
      "\tforward vs backward: 0.0, -2.6645352591003757e-15\n",
      "\n",
      "s: 7.2, n: 1000\n",
      "\tfloat32 forward: 1.0072276592254639\n",
      "\tfloat32 backward: 1.0072276592254639\n",
      "\tfloat64 forward: 1.0072276664807145\n",
      "\tfloat64 backward: 1.0072276664807172\n",
      "\n",
      "\tfloat32 vs float64: -7.255250622506537e-09, -7.255253287041796e-09\n",
      "\tforward vs backward: 0.0, -2.6645352591003757e-15\n",
      "\n",
      "s: 10, n: 50\n",
      "\tfloat32 forward: 1.0009945631027222\n",
      "\tfloat32 backward: 1.0009945631027222\n",
      "\tfloat64 forward: 1.0009945751278182\n",
      "\tfloat64 backward: 1.000994575127818\n",
      "\n",
      "\tfloat32 vs float64: -1.202509603004387e-08, -1.2025095807999264e-08\n",
      "\tforward vs backward: 0.0, 2.220446049250313e-16\n",
      "\n",
      "s: 10, n: 100\n",
      "\tfloat32 forward: 1.0009945631027222\n",
      "\tfloat32 backward: 1.0009945631027222\n",
      "\tfloat64 forward: 1.0009945751278182\n",
      "\tfloat64 backward: 1.000994575127818\n",
      "\n",
      "\tfloat32 vs float64: -1.202509603004387e-08, -1.2025095807999264e-08\n",
      "\tforward vs backward: 0.0, 2.220446049250313e-16\n",
      "\n",
      "s: 10, n: 200\n",
      "\tfloat32 forward: 1.0009945631027222\n",
      "\tfloat32 backward: 1.0009945631027222\n",
      "\tfloat64 forward: 1.0009945751278182\n",
      "\tfloat64 backward: 1.000994575127818\n",
      "\n",
      "\tfloat32 vs float64: -1.202509603004387e-08, -1.2025095807999264e-08\n",
      "\tforward vs backward: 0.0, 2.220446049250313e-16\n",
      "\n",
      "s: 10, n: 500\n",
      "\tfloat32 forward: 1.0009945631027222\n",
      "\tfloat32 backward: 1.0009945631027222\n",
      "\tfloat64 forward: 1.0009945751278182\n",
      "\tfloat64 backward: 1.000994575127818\n",
      "\n",
      "\tfloat32 vs float64: -1.202509603004387e-08, -1.2025095807999264e-08\n",
      "\tforward vs backward: 0.0, 2.220446049250313e-16\n",
      "\n",
      "s: 10, n: 1000\n",
      "\tfloat32 forward: 1.0009945631027222\n",
      "\tfloat32 backward: 1.0009945631027222\n",
      "\tfloat64 forward: 1.0009945751278182\n",
      "\tfloat64 backward: 1.000994575127818\n",
      "\n",
      "\tfloat32 vs float64: -1.202509603004387e-08, -1.2025095807999264e-08\n",
      "\tforward vs backward: 0.0, 2.220446049250313e-16\n",
      "\n",
      "eta Dirichlet ======================================================================================\n",
      "s: 2, n: 50\n",
      "\tfloat32 forward: 0.8222710315603763\n",
      "\tfloat32 backward: 0.8222710315603763\n",
      "\tfloat64 forward: 0.8222710318260295\n",
      "\tfloat64 backward: 0.8222710318260289\n",
      "\n",
      "\tfloat32 vs float64: -2.656531661315853e-10, -2.65652611020073e-10\n",
      "\tforward vs backward: 0.0, 5.551115123125783e-16\n",
      "\n",
      "s: 2, n: 100\n",
      "\tfloat32 forward: 0.8224175330906291\n",
      "\tfloat32 backward: 0.8224175330906291\n",
      "\tfloat64 forward: 0.8224175333741286\n",
      "\tfloat64 backward: 0.8224175333741282\n",
      "\n",
      "\tfloat32 vs float64: -2.8349944614092237e-10, -2.834990020517125e-10\n",
      "\tforward vs backward: 0.0, 4.440892098500626e-16\n",
      "\n",
      "s: 2, n: 200\n",
      "\tfloat32 forward: 0.8224545956309157\n",
      "\tfloat32 backward: 0.8224545956309157\n",
      "\tfloat64 forward: 0.822454595922551\n",
      "\tfloat64 backward: 0.8224545959225509\n",
      "\n",
      "\tfloat32 vs float64: -2.91635271487678e-10, -2.916351604653755e-10\n",
      "\tforward vs backward: 0.0, 1.1102230246251565e-16\n",
      "\n",
      "s: 2, n: 500\n",
      "\tfloat32 forward: 0.8224650371366806\n",
      "\tfloat32 backward: 0.8224650371366806\n",
      "\tfloat64 forward: 0.8224650374240963\n",
      "\tfloat64 backward: 0.8224650374240972\n",
      "\n",
      "\tfloat32 vs float64: -2.8741564683798515e-10, -2.8741653501640485e-10\n",
      "\tforward vs backward: 0.0, -8.881784197001252e-16\n",
      "\n",
      "s: 2, n: 1000\n",
      "\tfloat32 forward: 0.8224665336346106\n",
      "\tfloat32 backward: 0.8224665336346106\n",
      "\tfloat64 forward: 0.8224665339241114\n",
      "\tfloat64 backward: 0.8224665339241127\n",
      "\n",
      "\tfloat32 vs float64: -2.8950075670053366e-10, -2.895020889681632e-10\n",
      "\tforward vs backward: 0.0, -1.3322676295501878e-15\n",
      "\n",
      "s: 3.6667, n: 50\n",
      "\tfloat32 forward: 0.9346930646493092\n",
      "\tfloat32 backward: 0.9346930646493092\n",
      "\tfloat64 forward: 0.9346930600307106\n",
      "\tfloat64 backward: 0.934693060030711\n",
      "\n",
      "\tfloat32 vs float64: 4.618598614669622e-09, 4.618598281602715e-09\n",
      "\tforward vs backward: 0.0, -3.3306690738754696e-16\n",
      "\n",
      "s: 3.6667, n: 100\n",
      "\tfloat32 forward: 0.9346933257586976\n",
      "\tfloat32 backward: 0.9346933257586976\n",
      "\tfloat64 forward: 0.9346933211400662\n",
      "\tfloat64 backward: 0.934693321140067\n",
      "\n",
      "\tfloat32 vs float64: 4.618631366248849e-09, 4.6186305890927315e-09\n",
      "\tforward vs backward: 0.0, -7.771561172376096e-16\n",
      "\n",
      "s: 3.6667, n: 200\n",
      "\tfloat32 forward: 0.9346933467273078\n",
      "\tfloat32 backward: 0.9346933467273078\n",
      "\tfloat64 forward: 0.9346933421086845\n",
      "\tfloat64 backward: 0.9346933421086852\n",
      "\n",
      "\tfloat32 vs float64: 4.618623261620769e-09, 4.618622595486954e-09\n",
      "\tforward vs backward: 0.0, -6.661338147750939e-16\n",
      "\n",
      "s: 3.6667, n: 500\n",
      "\tfloat32 forward: 0.9346933484744991\n",
      "\tfloat32 backward: 0.9346933484744986\n",
      "\tfloat64 forward: 0.9346933438558745\n",
      "\tfloat64 backward: 0.934693343855875\n",
      "\n",
      "\tfloat32 vs float64: 4.6186245938883985e-09, 4.618623594687676e-09\n",
      "\tforward vs backward: 5.551115123125783e-16, -4.440892098500626e-16\n",
      "\n",
      "s: 3.6667, n: 1000\n",
      "\tfloat32 forward: 0.9346933485327599\n",
      "\tfloat32 backward: 0.9346933485327591\n",
      "\tfloat64 forward: 0.9346933439141353\n",
      "\tfloat64 backward: 0.9346933439141354\n",
      "\n",
      "\tfloat32 vs float64: 4.6186245938883985e-09, 4.618623705709979e-09\n",
      "\tforward vs backward: 7.771561172376096e-16, -1.1102230246251565e-16\n",
      "\n",
      "s: 5, n: 50\n",
      "\tfloat32 forward: 0.9721197687996714\n",
      "\tfloat32 backward: 0.9721197687996714\n",
      "\tfloat64 forward: 0.9721197689267979\n",
      "\tfloat64 backward: 0.9721197689267976\n",
      "\n",
      "\tfloat32 vs float64: -1.2712642050161094e-10, -1.27126198457006e-10\n",
      "\tforward vs backward: 0.0, 2.220446049250313e-16\n",
      "\n",
      "s: 5, n: 100\n",
      "\tfloat32 forward: 0.9721197702710327\n",
      "\tfloat32 backward: 0.9721197702710327\n",
      "\tfloat64 forward: 0.9721197703981592\n",
      "\tfloat64 backward: 0.9721197703981589\n",
      "\n",
      "\tfloat32 vs float64: -1.271265315239134e-10, -1.27126198457006e-10\n",
      "\tforward vs backward: 0.0, 3.3306690738754696e-16\n",
      "\n",
      "s: 5, n: 200\n",
      "\tfloat32 forward: 0.9721197703182404\n",
      "\tfloat32 backward: 0.9721197703182403\n",
      "\tfloat64 forward: 0.972119770445367\n",
      "\tfloat64 backward: 0.9721197704453663\n",
      "\n",
      "\tfloat32 vs float64: -1.2712664254621586e-10, -1.2712608743470355e-10\n",
      "\tforward vs backward: 1.1102230246251565e-16, 6.661338147750939e-16\n",
      "\n",
      "s: 5, n: 500\n",
      "\tfloat32 forward: 0.972119770319768\n",
      "\tfloat32 backward: 0.9721197703197673\n",
      "\tfloat64 forward: 0.9721197704468947\n",
      "\tfloat64 backward: 0.9721197704468933\n",
      "\n",
      "\tfloat32 vs float64: -1.2712664254621586e-10, -1.2712608743470355e-10\n",
      "\tforward vs backward: 7.771561172376096e-16, 1.3322676295501878e-15\n",
      "\n",
      "s: 5, n: 1000\n",
      "\tfloat32 forward: 0.9721197703197825\n",
      "\tfloat32 backward: 0.9721197703197827\n",
      "\tfloat64 forward: 0.9721197704469091\n",
      "\tfloat64 backward: 0.9721197704469088\n",
      "\n",
      "\tfloat32 vs float64: -1.2712664254621586e-10, -1.2712608743470355e-10\n",
      "\tforward vs backward: -2.220446049250313e-16, 3.3306690738754696e-16\n",
      "\n",
      "s: 7.2, n: 50\n",
      "\tfloat32 forward: 0.993527000574547\n",
      "\tfloat32 backward: 0.9935270005745467\n",
      "\tfloat64 forward: 0.9935270006613486\n",
      "\tfloat64 backward: 0.9935270006613481\n",
      "\n",
      "\tfloat32 vs float64: -8.680156593499078e-11, -8.680145491268831e-11\n",
      "\tforward vs backward: 3.3306690738754696e-16, 4.440892098500626e-16\n",
      "\n",
      "s: 7.2, n: 100\n",
      "\tfloat32 forward: 0.9935270005748169\n",
      "\tfloat32 backward: 0.9935270005748165\n",
      "\tfloat64 forward: 0.9935270006616185\n",
      "\tfloat64 backward: 0.9935270006616179\n",
      "\n",
      "\tfloat32 vs float64: -8.680156593499078e-11, -8.680145491268831e-11\n",
      "\tforward vs backward: 4.440892098500626e-16, 5.551115123125783e-16\n",
      "\n",
      "s: 7.2, n: 200\n",
      "\tfloat32 forward: 0.9935270005748186\n",
      "\tfloat32 backward: 0.9935270005748184\n",
      "\tfloat64 forward: 0.9935270006616201\n",
      "\tfloat64 backward: 0.9935270006616198\n",
      "\n",
      "\tfloat32 vs float64: -8.680156593499078e-11, -8.680145491268831e-11\n",
      "\tforward vs backward: 2.220446049250313e-16, 3.3306690738754696e-16\n",
      "\n",
      "s: 7.2, n: 500\n",
      "\tfloat32 forward: 0.9935270005748186\n",
      "\tfloat32 backward: 0.9935270005748184\n",
      "\tfloat64 forward: 0.9935270006616201\n",
      "\tfloat64 backward: 0.9935270006616198\n",
      "\n",
      "\tfloat32 vs float64: -8.680156593499078e-11, -8.680145491268831e-11\n",
      "\tforward vs backward: 2.220446049250313e-16, 3.3306690738754696e-16\n",
      "\n",
      "s: 7.2, n: 1000\n",
      "\tfloat32 forward: 0.9935270005748186\n",
      "\tfloat32 backward: 0.9935270005748184\n",
      "\tfloat64 forward: 0.9935270006616201\n",
      "\tfloat64 backward: 0.9935270006616198\n",
      "\n",
      "\tfloat32 vs float64: -8.680156593499078e-11, -8.680145491268831e-11\n",
      "\tforward vs backward: 2.220446049250313e-16, 3.3306690738754696e-16\n",
      "\n",
      "s: 10, n: 50\n",
      "\tfloat32 forward: 0.9990395075983068\n",
      "\tfloat32 backward: 0.9990395075983066\n",
      "\tfloat64 forward: 0.9990395075982718\n",
      "\tfloat64 backward: 0.9990395075982715\n",
      "\n",
      "\tfloat32 vs float64: 3.5083047578154947e-14, 3.5083047578154947e-14\n",
      "\tforward vs backward: 2.220446049250313e-16, 2.220446049250313e-16\n",
      "\n",
      "s: 10, n: 100\n",
      "\tfloat32 forward: 0.9990395075983068\n",
      "\tfloat32 backward: 0.9990395075983066\n",
      "\tfloat64 forward: 0.9990395075982718\n",
      "\tfloat64 backward: 0.9990395075982715\n",
      "\n",
      "\tfloat32 vs float64: 3.5083047578154947e-14, 3.5083047578154947e-14\n",
      "\tforward vs backward: 2.220446049250313e-16, 2.220446049250313e-16\n",
      "\n",
      "s: 10, n: 200\n",
      "\tfloat32 forward: 0.9990395075983068\n",
      "\tfloat32 backward: 0.9990395075983066\n",
      "\tfloat64 forward: 0.9990395075982718\n",
      "\tfloat64 backward: 0.9990395075982715\n",
      "\n",
      "\tfloat32 vs float64: 3.5083047578154947e-14, 3.5083047578154947e-14\n",
      "\tforward vs backward: 2.220446049250313e-16, 2.220446049250313e-16\n",
      "\n",
      "s: 10, n: 500\n",
      "\tfloat32 forward: 0.9990395075983068\n",
      "\tfloat32 backward: 0.9990395075983066\n",
      "\tfloat64 forward: 0.9990395075982718\n",
      "\tfloat64 backward: 0.9990395075982715\n",
      "\n",
      "\tfloat32 vs float64: 3.5083047578154947e-14, 3.5083047578154947e-14\n",
      "\tforward vs backward: 2.220446049250313e-16, 2.220446049250313e-16\n",
      "\n",
      "s: 10, n: 1000\n",
      "\tfloat32 forward: 0.9990395075983068\n",
      "\tfloat32 backward: 0.9990395075983066\n",
      "\tfloat64 forward: 0.9990395075982718\n",
      "\tfloat64 backward: 0.9990395075982715\n",
      "\n",
      "\tfloat32 vs float64: 3.5083047578154947e-14, 3.5083047578154947e-14\n",
      "\tforward vs backward: 2.220446049250313e-16, 2.220446049250313e-16\n",
      "\n"
     ]
    }
   ],
   "source": [
    "def dzeta_riemann_step(k, s, dtype):\n",
    "    return dtype(1 / dtype(k**s))\n",
    "\n",
    "def eta_dirichlet_step(k, s, dtype):\n",
    "    return (-1)**(k-1) * dtype(1 / dtype(k**s))\n",
    "\n",
    "def adder(s, n, dtype, step_func, forward=True):\n",
    "    _sum = dtype(0)\n",
    "    _range = range(1, n+1) if forward else range(n, 0, -1)\n",
    "    for k in _range:\n",
    "        _sum += step_func(k, s, dtype)\n",
    "    return _sum\n",
    "\n",
    "def main(s_vals, n_vals, step_func):\n",
    "    for s in s_vals:\n",
    "        for n in n_vals:\n",
    "            print(f's: {s}, n: {n}')\n",
    "            float32_forward = adder(s, n, np.float32, step_func)\n",
    "            float32_backward = adder(s, n, np.float32, step_func, False)\n",
    "            float64_forward = adder(s, n, np.float64, step_func)\n",
    "            float64_backward = adder(s, n, np.float64, step_func, False)\n",
    "\n",
    "            print(f'\\tfloat32 forward: {float32_forward}')\n",
    "            print(f'\\tfloat32 backward: {float32_backward}')\n",
    "            print(f'\\tfloat64 forward: {float64_forward}')\n",
    "            print(f'\\tfloat64 backward: {float64_backward}')\n",
    "            print()\n",
    "\n",
    "            print(f'\\tfloat32 vs float64: {float32_forward - float64_forward}, {float32_backward - float64_backward}')\n",
    "            print(f'\\tforward vs backward: {float32_forward - float32_backward}, {float64_forward - float64_backward}')\n",
    "            print()\n",
    "\n",
    "s_vals = [2, 3.6667, 5, 7.2, 10]\n",
    "n_vals = [50, 100, 200, 500, 1000]\n",
    "print('dzeta Riemann ======================================================================================')\n",
    "main(s_vals, n_vals, dzeta_riemann_step)\n",
    "print('eta Dirichlet ======================================================================================')\n",
    "main(s_vals, n_vals, eta_dirichlet_step)"
   ]
  },
  {
   "cell_type": "markdown",
   "source": [
    "Obserwacje:\n",
    "- float32 zachowuje precyzje do 6-8 miejsca po przecinku,\n",
    "- float64 zachowuje precyzję do 15-16 miejsca po przecinku,\n",
    "- Dla s > 1 (co rozpatrujemy) oraz k ∈ N+ szereg definiujący funkcję dzeta Riemanna jest malejący.\n",
    "    Zaczynając od pierwszego wyrazu suma byłaby niepotrzebnie duża od początku. Możemy sumować od ostatniego\n",
    "    wyrazu, wtedy nie utracimy mniej znaczących bitów najmniejszych wyrazów szeregu;\n",
    "- Szereg definiujący funkcję eta Dirichleta jest naprzemienny, wyrazy szeregu są na moduł malejące.\n",
    "    Kierując się argumentacją z punktu powyższego sumowanie od tyłu może być efektywniejsze.\n",
    "    Możliwe, że lepsze wyniki dałoby sumowanie parami dwóch kolejnych wyrazów, (ze względu na naprzemienność szeregu),\n",
    "    dodając do zmiennej przechowującej sumę wynik tego dodawania. Otrzymywalibyśmy wtedy mniejsze wyrazy do\n",
    "    sumowania."
   ],
   "metadata": {
    "collapsed": false
   }
  },
  {
   "cell_type": "markdown",
   "source": [
    "## Zadanie 4 Błędy zaokrągleń i odwzorowanie logistyczne (dodatkowe)"
   ],
   "metadata": {
    "collapsed": false
   }
  },
  {
   "cell_type": "markdown",
   "source": [
    "Rozważ odwzorowanie logistyczne dane następującym wzorem rekurencyjnym\n",
    "$$ x_{n+1} = rx_{n} (1 − x_{n}) $$\n",
    "Przy czym\n",
    "$$ 0 <= x_{n} <= 1 $$\n",
    "$$ r > 0 $$\n",
    "Zbadaj zbieżność procesu iteracyjnego określonego tym\n",
    "równaniem w zależności od wartości parametru r oraz x<sub>0</sub>."
   ],
   "metadata": {
    "collapsed": false
   }
  },
  {
   "cell_type": "markdown",
   "source": [
    "a) Dla różnych wartości r (1 <= r <= 4) oraz kilku wybranych wartości x<sub>0</sub> przedstaw\n",
    "na wykresie wartości x<sub>n</sub> uzyskane po wielu iteracjach odwzorowania logistycznego\n",
    "(diagram bifurkacyjny). Dokonaj interpretacji otrzymanych wyników."
   ],
   "metadata": {
    "collapsed": false,
    "pycharm": {
     "name": "#%% md\n"
    }
   }
  },
  {
   "cell_type": "code",
   "execution_count": 15,
   "outputs": [],
   "source": [
    "def bifurcation_diagram(r_min, r_max, r_cnt, x_min, x_max, x_cnt, n):\n",
    "    rs = np.linspace(1, 4, 6)\n",
    "    x_0s = np.linspace(0, 1, 3)\n"
   ],
   "metadata": {
    "collapsed": false,
    "pycharm": {
     "name": "#%%\n"
    }
   }
  },
  {
   "cell_type": "markdown",
   "source": [
    "Przebiegi odwzorowań logistycznych o różnych parametrach początkowych."
   ],
   "metadata": {
    "collapsed": false
   }
  },
  {
   "cell_type": "code",
   "execution_count": 18,
   "outputs": [
    {
     "data": {
      "text/plain": "<matplotlib.legend.Legend at 0x7f56edc90400>"
     },
     "execution_count": 18,
     "metadata": {},
     "output_type": "execute_result"
    },
    {
     "data": {
      "text/plain": "<Figure size 432x288 with 1 Axes>",
      "image/png": "[encoded data removed]"
     },
     "metadata": {
      "needs_background": "light"
     },
     "output_type": "display_data"
    }
   ],
   "source": [
    "def logistic_map(x_n, r):\n",
    "    return r * x_n * (1 - x_n)\n",
    "\n",
    "rs = np.linspace(1, 4, 6)\n",
    "x_0s = np.linspace(0, 1, 3)\n",
    "n = 25\n",
    "to_plot = [0] * n\n",
    "\n",
    "for r in rs:\n",
    "    for x_0 in x_0s:\n",
    "        x = to_plot[0] = x_0\n",
    "        for i in range(1, n):\n",
    "            x = to_plot[i] = logistic_map(x, r)\n",
    "        plt.plot(to_plot, label=f'r={r}, x_0={x_0}')\n",
    "\n",
    "plt.xlabel('n')\n",
    "plt.ylabel('x_n')\n",
    "plt.legend(loc='center left', bbox_to_anchor=(1, 0.5))"
   ],
   "metadata": {
    "collapsed": false,
    "pycharm": {
     "name": "#%%\n"
    }
   }
  }
 ],
 "metadata": {
  "kernelspec": {
   "display_name": "Python 3",
   "language": "python",
   "name": "python3"
  },
  "language_info": {
   "codemirror_mode": {
    "name": "ipython",
    "version": 3
   },
   "file_extension": ".py",
   "mimetype": "text/x-python",
   "name": "python",
   "nbconvert_exporter": "python",
   "pygments_lexer": "ipython3",
   "version": "3.8.8"
  }
 },
 "nbformat": 4,
 "nbformat_minor": 1
}