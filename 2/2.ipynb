{
 "cells": [
  {
   "cell_type": "markdown",
   "source": [
    "# Metody Obliczeniowe w Nauce i Technice\n",
    "# Laboratorium 2: Rozwiązywanie układów równań liniowych\n",
    "## Przemysław Roman"
   ],
   "metadata": {
    "collapsed": false,
    "pycharm": {
     "name": "#%% md\n"
    }
   }
  },
  {
   "cell_type": "code",
   "source": [
    "import numpy as np\n",
    "import matplotlib.pyplot as plt\n",
    "import time\n",
    "from copy import deepcopy\n",
    "\n",
    "def time_exec(func, *args):\n",
    "    start_time = time.time()\n",
    "    result = func(*args)\n",
    "    return result, time.time() - start_time"
   ],
   "metadata": {
    "collapsed": false,
    "pycharm": {
     "name": "#%%\n"
    }
   },
   "execution_count": 141,
   "outputs": []
  },
  {
   "cell_type": "markdown",
   "source": [
    "## Zadanie 1 Metoda Gaussa-Jordana"
   ],
   "metadata": {
    "collapsed": false,
    "pycharm": {
     "name": "#%% md\n"
    }
   }
  },
  {
   "cell_type": "markdown",
   "source": [
    "Napisz i sprawdź funkcję rozwiązującą układ równań liniowych n × n metodą Gaussa-\n",
    "Jordana. Dla rozmiarów macierzy współczynników większych niż 500 × 500 porównaj\n",
    "czasy działania zaimplementowanej funkcji z czasami uzyskanymi dla wybranych funkcji\n",
    "bibliotecznych."
   ],
   "metadata": {
    "collapsed": false,
    "pycharm": {
     "name": "#%% md\n"
    }
   }
  },
  {
   "cell_type": "markdown",
   "source": [
    "Funkcje pomocnicze"
   ],
   "metadata": {
    "collapsed": false,
    "pycharm": {
     "name": "#%% md\n"
    }
   }
  },
  {
   "cell_type": "code",
   "execution_count": 142,
   "outputs": [],
   "source": [
    "# układa rzędy tak aby ilość wiodących zer w rzędach była niemalejąca idąc od góry do dołu układu równań\n",
    "def order_rows_by_leading_zeros(AB, n):\n",
    "  pre_zeros = [0] * n\n",
    "\n",
    "  for i in range(n):\n",
    "    for j in range(n):\n",
    "      if AB[i,j] != 0:\n",
    "        break\n",
    "      pre_zeros[i] += 1\n",
    "\n",
    "  sorted_indexes = [i for _, i in sorted(zip(pre_zeros, range(n)))]\n",
    "  return np.array([AB[i] for i in sorted_indexes])\n",
    "\n",
    "# sprawia, że wszystkie elementy w tablicy są w zakresie [0, 1]\n",
    "def scaling(AB, n):\n",
    "    for i in range(n):\n",
    "        _max = max(AB[i])\n",
    "        AB[i] /= np.max(AB[i])"
   ],
   "metadata": {
    "collapsed": false,
    "pycharm": {
     "name": "#%%\n"
    }
   }
  },
  {
   "cell_type": "markdown",
   "source": [
    "Implementacja algorytmu Gaussa-Jordana z wykorzystaniem partial pivotingu"
   ],
   "metadata": {
    "collapsed": false,
    "pycharm": {
     "name": "#%% md\n"
    }
   }
  },
  {
   "cell_type": "code",
   "source": [
    "def find_max_abs_scalar_in_col(AB, n, col):\n",
    "    i = col + 1\n",
    "    if i < n:\n",
    "        return i + np.absolute(AB[i:,col]).argmax()\n",
    "    return -1\n",
    "\n",
    "# i - rząd, j - kolumna\n",
    "def gauss_jordan_partial_pivoting(_AB, inplace=False):\n",
    "    n = _AB.shape[0]\n",
    "    if inplace:\n",
    "        AB = _AB\n",
    "    else:\n",
    "        AB = deepcopy(_AB) # żeby nie niszczyć macierzy wejściowej\n",
    "    AB = order_rows_by_leading_zeros(AB, n)\n",
    "    scaling(AB, n)\n",
    "\n",
    "    for i in range(n):\n",
    "        # partial pivoting\n",
    "        max_i = find_max_abs_scalar_in_col(AB, n, i)\n",
    "        if max_i != -1:\n",
    "            AB[[i,max_i]] = AB[[max_i,i]]\n",
    "\n",
    "        if AB[i,i] != 0:\n",
    "            # redukcja pivotu do 1\n",
    "            scalar = 1 / AB[i,i]\n",
    "            AB[i] *= scalar\n",
    "\n",
    "            # redukcja współczynników do 0, które znajdują się w tej samej kolumnie co pivot\n",
    "            for k in range(n):\n",
    "                if k != i:\n",
    "                    scalar = AB[k,i] / AB[i,i]\n",
    "                    AB[k] -= scalar * AB[i]\n",
    "\n",
    "    return AB[:,-1] # ostatnia kolumna zawiera wyniki"
   ],
   "metadata": {
    "collapsed": false,
    "pycharm": {
     "name": "#%%\n"
    }
   },
   "execution_count": 143,
   "outputs": []
  },
  {
   "cell_type": "markdown",
   "source": [
    "Implementacja algorytmu Gaussa-Jordana z wykorzystaniem full pivotingu"
   ],
   "metadata": {
    "collapsed": false,
    "pycharm": {
     "name": "#%% md\n"
    }
   }
  },
  {
   "cell_type": "code",
   "execution_count": 144,
   "outputs": [],
   "source": [
    "def find_max_abs_scalar_in_box(AB, n, box_i):\n",
    "    i = j = box_i + 1\n",
    "    if i < n:\n",
    "        max_i, max_j = np.unravel_index(np.absolute(AB[i:,j:n]).argmax(), [n-i,n-j])\n",
    "        return i + max_i, j + max_j\n",
    "    return -1, -1\n",
    "\n",
    "# i - rząd, j - kolumna\n",
    "def gauss_jordan_full_pivoting(_AB, inplace=False):\n",
    "    n = _AB.shape[0]\n",
    "    if inplace:\n",
    "        AB = _AB\n",
    "    else:\n",
    "        AB = deepcopy(_AB) # żeby nie niszczyć macierzy wejściowej\n",
    "    AB = order_rows_by_leading_zeros(AB, n)\n",
    "    scaling(AB, n)\n",
    "\n",
    "    variables_permutations = []\n",
    "    for i in range(n):\n",
    "        # full pivoting\n",
    "        max_i, max_j = find_max_abs_scalar_in_box(AB, n, i)\n",
    "        if max_i != -1:\n",
    "            AB[[i,max_i]] = AB[[max_i,i]]\n",
    "            AB[:,[i,max_j]] = AB[:,[max_j,i]]\n",
    "            variables_permutations.append((i, max_j))\n",
    "\n",
    "        if AB[i,i] != 0:\n",
    "            # redukcja pivotu do 1\n",
    "            scalar = 1 / AB[i,i]\n",
    "            AB[i] *= scalar\n",
    "\n",
    "            # redukcja współczynników do 0, które znajdują się w tej samej kolumnie co pivot\n",
    "            for k in range(n):\n",
    "                if k != i:\n",
    "                    scalar = AB[k,i] / AB[i,i]\n",
    "                    AB[k] -= scalar * AB[i]\n",
    "\n",
    "    B = AB[:,-1] # ostatnia kolumna zawiera wyniki\n",
    "    # należy przywrócić zmienne do początkowej kolejności (zaburzono ją zamieniając kolumny)\n",
    "    for v1, v2 in reversed(variables_permutations):\n",
    "        B[v1], B[v2] = B[v2], B[v1]\n",
    "\n",
    "    return B"
   ],
   "metadata": {
    "collapsed": false,
    "pycharm": {
     "name": "#%%\n"
    }
   }
  },
  {
   "cell_type": "markdown",
   "source": [
    "Testy poprawności rozwiązania oraz czasu wykonania"
   ],
   "metadata": {
    "collapsed": false,
    "pycharm": {
     "name": "#%% md\n"
    }
   }
  },
  {
   "cell_type": "code",
   "execution_count": 160,
   "outputs": [
    {
     "data": {
      "text/plain": "<Figure size 432x288 with 1 Axes>",
      "image/png": "[encoded data removed]"
     },
     "metadata": {
      "needs_background": "light"
     },
     "output_type": "display_data"
    },
    {
     "data": {
      "text/plain": "<Figure size 432x288 with 1 Axes>",
      "image/png": "[encoded data removed]"
     },
     "metadata": {
      "needs_background": "light"
     },
     "output_type": "display_data"
    },
    {
     "name": "stdout",
     "output_type": "stream",
     "text": [
      "Czas wykonania testera: 109.76126718521118[s]\n"
     ]
    }
   ],
   "source": [
    "def get_absolute_errors_sum(vals, expected_vals):\n",
    "    return np.sum(np.absolute(vals - expected_vals))\n",
    "\n",
    "def gauss_jordan_tester_iter(tnps, tpps, tfps, pp_errors, fp_errors, n):\n",
    "    A = np.random.random((n, n))\n",
    "    B = np.random.random((n, 1))\n",
    "    AB = np.concatenate((A, B), axis=1)\n",
    "\n",
    "    Xnp, tnp = time_exec(np.linalg.solve, A, B)\n",
    "    Xnp = Xnp.flatten()\n",
    "    tnps.append(tnp)\n",
    "\n",
    "    Xpp, tpp = time_exec(gauss_jordan_partial_pivoting, AB)\n",
    "    pp_error = get_absolute_errors_sum(Xpp, Xnp)\n",
    "    pp_errors.append(pp_error)\n",
    "    tpps.append(tpp)\n",
    "\n",
    "    Xfp, tfp = time_exec(gauss_jordan_full_pivoting, AB)\n",
    "    fp_error = get_absolute_errors_sum(Xfp, Xnp)\n",
    "    fp_errors.append(fp_error)\n",
    "    tfps.append(tfp)\n",
    "\n",
    "def gauss_jordan_tester_plot(tnps, tpps, tfps, pp_errors, fp_errors, ns):\n",
    "    plt.plot(ns, tpps, label='partial pivoting')\n",
    "    plt.plot(ns, tfps, label='full pivoting')\n",
    "    plt.plot(ns, tnps, label='numpy')\n",
    "    plt.xlabel('Ilość zmiennych')\n",
    "    plt.ylabel('Czas wykonania algorytmu')\n",
    "    plt.title('Czas wykonania algorytmu w zależności od ilości zmiennych')\n",
    "    plt.legend()\n",
    "    plt.show()\n",
    "\n",
    "    plt.plot(ns, pp_errors, label='partial pivoting')\n",
    "    plt.plot(ns, fp_errors, label='full pivoting')\n",
    "    plt.xlabel('Ilość zmiennych')\n",
    "    plt.ylabel('Sumaryczny błąd bezwzględny')\n",
    "    plt.title('Sumaryczny błąd bezwzględny w zależności od ilości zmiennych', y=1.05)\n",
    "    plt.legend()\n",
    "    plt.show()\n",
    "\n",
    "def gauss_jordan_tester(N, step, seed=11792):\n",
    "    np.random.seed(seed)\n",
    "    pp_errors = []; fp_errors = []\n",
    "    tnps = []; tpps = []; tfps = []\n",
    "    ns = list(range(2, N, step))\n",
    "\n",
    "    for n in ns:\n",
    "        gauss_jordan_tester_iter(tnps, tpps, tfps, pp_errors, fp_errors, n)\n",
    "\n",
    "    gauss_jordan_tester_plot(tnps, tpps, tfps, pp_errors, fp_errors, ns)\n",
    "\n",
    "r, t = time_exec(gauss_jordan_tester, 1000, 25)\n",
    "print(f'Czas wykonania testera: {t}[s]')"
   ],
   "metadata": {
    "collapsed": false,
    "pycharm": {
     "name": "#%%\n"
    }
   }
  },
  {
   "cell_type": "markdown",
   "source": [
    "Partial pivoting i full pivoting wykonują się w podobnym czasie, dokładność rozwiązań jest również podobna.\n",
    "Czas wykonania moich implementacji rośnie znacznie szybciej niż solver z biblioteki numpy (wraz ze wzrostem ilości zmiennych).\n",
    "Wyniki są całkiem dokładne (dokładność rzędu $ 10^{-8} $ dla wybranego seedu). Na wykresie przedstawiającym zależność błędu od ilości zmiennych\n",
    "sporadycznie występują ostre szpice, które powstają przypadkowo."
   ],
   "metadata": {
    "collapsed": false,
    "pycharm": {
     "name": "#%% md\n"
    }
   }
  },
  {
   "cell_type": "markdown",
   "source": [
    "## Zadanie 2 Faktoryzacja LU"
   ],
   "metadata": {
    "collapsed": false,
    "pycharm": {
     "name": "#%% md\n"
    }
   }
  },
  {
   "cell_type": "markdown",
   "source": [
    "Napisz i przetestuj funkcję dokonującą faktoryzacji $ \\textbf{A = LU} $ macierzy $ \\textbf{A} $ (bez poszuki-\n",
    "wania elementu wiodącego). Sprawdź poprawność wyniku obliczając $ \\textbf{||A − LU||} $. Zadbaj\n",
    "o to żeby implementacja była in-situ. Elementy macierzy $ \\textbf{L} $ to współczynniki mnożenia\n",
    "umożliwiające wyzerowanie odpowiedniego współczynnika macierzy $ \\textbf{A} $ w trakcie procesu\n",
    "eliminacji."
   ],
   "metadata": {
    "collapsed": false,
    "pycharm": {
     "name": "#%% md\n"
    }
   }
  },
  {
   "cell_type": "markdown",
   "source": [
    "Implementacja algorytmu faktoryzacji LU macierzy"
   ],
   "metadata": {
    "collapsed": false,
    "pycharm": {
     "name": "#%% md\n"
    }
   }
  },
  {
   "cell_type": "code",
   "execution_count": 157,
   "outputs": [],
   "source": [
    "def factorize_matrix(A, inplace=False):\n",
    "    n = A.shape[0]\n",
    "    if inplace:\n",
    "        LU = A\n",
    "    else:\n",
    "        LU = deepcopy(A) # żeby nie niszczyć macierzy wejściowej\n",
    "    LU = order_rows_by_leading_zeros(LU, n)\n",
    "\n",
    "    for i in range(n):\n",
    "        if LU[i,i] != 0:\n",
    "            for k in range(i+1, n):\n",
    "                if k != i:\n",
    "                    scalar = LU[k,i] / LU[i,i]\n",
    "                    LU[k] -= scalar * LU[i]\n",
    "                    LU[k,i] = scalar\n",
    "\n",
    "    return LU\n",
    "\n",
    "def split_LU(LU):\n",
    "    n = LU.shape[0]\n",
    "    L = deepcopy(LU)\n",
    "    U = deepcopy(LU)\n",
    "    for i in range(n):\n",
    "        L[i,i] = 1\n",
    "        for j in range(i+1, n):\n",
    "            L[i,j] = 0\n",
    "            U[j,i] = 0\n",
    "\n",
    "    return L, U"
   ],
   "metadata": {
    "collapsed": false,
    "pycharm": {
     "name": "#%%\n"
    }
   }
  },
  {
   "cell_type": "markdown",
   "source": [
    "Testy poprawności rozwiązania oraz czasu wykonania"
   ],
   "metadata": {
    "collapsed": false,
    "pycharm": {
     "name": "#%% md\n"
    }
   }
  },
  {
   "cell_type": "code",
   "execution_count": 162,
   "outputs": [
    {
     "data": {
      "text/plain": "<Figure size 432x288 with 1 Axes>",
      "image/png": "[encoded data removed]"
     },
     "metadata": {
      "needs_background": "light"
     },
     "output_type": "display_data"
    },
    {
     "data": {
      "text/plain": "<Figure size 432x288 with 1 Axes>",
      "image/png": "[encoded data removed]"
     },
     "metadata": {
      "needs_background": "light"
     },
     "output_type": "display_data"
    },
    {
     "name": "stdout",
     "output_type": "stream",
     "text": [
      "Czas wykonania testera: 41.77622103691101[s]\n"
     ]
    }
   ],
   "source": [
    "def get_matrix_factorization_error(A, L, U):\n",
    "    return np.linalg.det(A - np.matmul(L, U))\n",
    "\n",
    "def matrix_factorization_tester_plot(ts, errors, ns):\n",
    "    plt.plot(ns, ts)\n",
    "    plt.xlabel('Ilość zmiennych')\n",
    "    plt.ylabel('Czas wykonania algorytmu')\n",
    "    plt.title('Czas wykonania algorytmu w zależności od ilości zmiennych')\n",
    "    plt.show()\n",
    "\n",
    "    plt.plot(ns, errors)\n",
    "    plt.xlabel('Ilość zmiennych')\n",
    "    plt.ylabel('Wynik ||A - LU||')\n",
    "    plt.title('Wynik ||A - LU|| w zależności od ilości zmiennych', y=1.05)\n",
    "    plt.show()\n",
    "\n",
    "def matrix_factorization_tester(N, step, seed=11792):\n",
    "    np.random.seed(seed)\n",
    "    ts = []; errors = []\n",
    "    ns = list(range(2, N, step))\n",
    "\n",
    "    for n in ns:\n",
    "        A = np.random.random((n, n))\n",
    "        LU, t = time_exec(factorize_matrix, A)\n",
    "        L, U = split_LU(LU)\n",
    "        ts.append(t)\n",
    "        errors.append(get_matrix_factorization_error(A, L, U))\n",
    "\n",
    "    matrix_factorization_tester_plot(ts, errors, ns)\n",
    "\n",
    "r, t = time_exec(matrix_factorization_tester, 1000, 25)\n",
    "print(f'Czas wykonania testera: {t}[s]')"
   ],
   "metadata": {
    "collapsed": false,
    "pycharm": {
     "name": "#%%\n"
    }
   }
  },
  {
   "cell_type": "markdown",
   "source": [
    "Faktoryzacja jest bardzo dokładna, dla wszystkich testowanych ilości zmiennych wynik $ ||A − LU|| = 0 $, co jest oczekiwanym wynikiem."
   ],
   "metadata": {
    "collapsed": false,
    "pycharm": {
     "name": "#%% md\n"
    }
   }
  }
 ],
 "metadata": {
  "kernelspec": {
   "display_name": "Python 3",
   "language": "python",
   "name": "python3"
  },
  "language_info": {
   "codemirror_mode": {
    "name": "ipython",
    "version": 2
   },
   "file_extension": ".py",
   "mimetype": "text/x-python",
   "name": "python",
   "nbconvert_exporter": "python",
   "pygments_lexer": "ipython2",
   "version": "2.7.6"
  }
 },
 "nbformat": 4,
 "nbformat_minor": 0
}